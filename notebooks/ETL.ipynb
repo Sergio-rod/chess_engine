{
 "cells": [
  {
   "cell_type": "code",
   "execution_count": 1,
   "id": "initial_id",
   "metadata": {
    "ExecuteTime": {
     "end_time": "2025-05-29T03:50:17.547387Z",
     "start_time": "2025-05-29T03:50:12.226649Z"
    }
   },
   "outputs": [
    {
     "name": "stderr",
     "output_type": "stream",
     "text": [
      "2025-10-09 19:36:45.136373: E external/local_xla/xla/stream_executor/cuda/cuda_fft.cc:477] Unable to register cuFFT factory: Attempting to register factory for plugin cuFFT when one has already been registered\n",
      "WARNING: All log messages before absl::InitializeLog() is called are written to STDERR\n",
      "E0000 00:00:1760060205.225296     744 cuda_dnn.cc:8310] Unable to register cuDNN factory: Attempting to register factory for plugin cuDNN when one has already been registered\n",
      "E0000 00:00:1760060205.251909     744 cuda_blas.cc:1418] Unable to register cuBLAS factory: Attempting to register factory for plugin cuBLAS when one has already been registered\n",
      "2025-10-09 19:36:45.463231: I tensorflow/core/platform/cpu_feature_guard.cc:210] This TensorFlow binary is optimized to use available CPU instructions in performance-critical operations.\n",
      "To enable the following instructions: AVX2 FMA, in other operations, rebuild TensorFlow with the appropriate compiler flags.\n"
     ]
    }
   ],
   "source": [
    "import tensorflow as tf\n",
    "import chess.pgn\n",
    "import pandas as pd\n",
    "import numpy as np\n",
    "import os\n",
    "import time\n",
    "import multiprocessing as mp\n",
    "import random\n",
    "import io\n",
    "import re\n",
    "import dask.dataframe as dd\n",
    "import glob\n",
    "from pathlib import Path\n",
    "    \n",
    "from tqdm.notebook import tqdm"
   ]
  },
  {
   "cell_type": "code",
   "execution_count": 2,
   "id": "8fab3a25944112e7",
   "metadata": {
    "ExecuteTime": {
     "end_time": "2025-05-29T03:50:18.022788Z",
     "start_time": "2025-05-29T03:50:17.562993Z"
    }
   },
   "outputs": [
    {
     "name": "stdout",
     "output_type": "stream",
     "text": [
      "Now using gpu\n"
     ]
    }
   ],
   "source": [
    "gpus = tf.config.experimental.list_physical_devices('GPU')\n",
    "\n",
    "try:\n",
    "    if gpus:\n",
    "        tf.config.experimental.set_visible_devices(gpus[0], 'GPU')\n",
    "        tf.config.set_visible_devices(gpus[0], 'GPU')\n",
    "        print('Now using gpu')\n",
    "    else: print('Unable to use the gpu')\n",
    "\n",
    "\n",
    "except RuntimeError as e:\n",
    "    print(f'Something went wrong: {e}')\n"
   ]
  },
  {
   "cell_type": "code",
   "execution_count": 3,
   "id": "3ae93107ac3e949d",
   "metadata": {
    "ExecuteTime": {
     "end_time": "2025-05-29T03:51:56.789449Z",
     "start_time": "2025-05-29T03:51:56.785302Z"
    }
   },
   "outputs": [],
   "source": [
    "piece_values = {\n",
    "    chess.PAWN: 1,\n",
    "    chess.KNIGHT: 3,\n",
    "    chess.BISHOP: 3,\n",
    "    chess.ROOK: 5,\n",
    "    chess.QUEEN: 9,\n",
    "}\n",
    "\n",
    "\n",
    "def material_score(board):\n",
    "    \"\"\"Devuelve el balance de material (positivo = blancas mejor, negativo = negras mejor).\"\"\"\n",
    "    score = 0\n",
    "    for piece_type, val in piece_values.items():\n",
    "        score += len(board.pieces(piece_type, chess.WHITE)) * val\n",
    "        score -= len(board.pieces(piece_type, chess.BLACK)) * val\n",
    "    return score\n",
    "\n",
    "\n",
    "def game_pipeline_from_text(game_tuple):\n",
    "    game = chess.pgn.read_game(io.StringIO(game_tuple[1]))\n",
    "    if game is None:\n",
    "        return None\n",
    "\n",
    "\n",
    "\n",
    "    # Headers of PGN\n",
    "    termination = game.headers.get('Termination','').lower()\n",
    "    result = game.headers.get(\"Result\", \"*\")\n",
    "    outcome = 1 if result == \"1-0\" else -1 if result == \"0-1\" else 0\n",
    "\n",
    "    # Flag is_loss_by_time\n",
    "    is_loss_by_time = 1 if 'time forfeit' in termination or 'time' in termination else 0\n",
    "    is_loss_by_resign = 1 if \"resign\" in termination or \"abandon\" in termination else 0\n",
    "\n",
    "    # Gneral\n",
    "    moves = list(game.mainline_moves())\n",
    "    board = game.board()\n",
    "    total_moves = len(moves)\n",
    "\n",
    "    game_list = []\n",
    "    ply = 0  # half-move counter\n",
    "\n",
    "    pre_loss_score = None\n",
    "\n",
    "    if is_loss_by_time and total_moves > 0:\n",
    "        temp_board = game.board()\n",
    "        for move in moves[:-1]:\n",
    "            temp_board.push(move)\n",
    "        pre_loss_score = material_score(temp_board)\n",
    "    \n",
    "    for move in moves:\n",
    "        fen = board.fen()\n",
    "        move_uci = move.uci()\n",
    "        move_san = board.san(move)\n",
    "        player = \"white\" if board.turn == chess.WHITE else \"black\"\n",
    "\n",
    "        # --- Enrichment ---\n",
    "        piece_moved = None\n",
    "        is_capture = 0\n",
    "        captured_piece = None\n",
    "        is_check = 0\n",
    "        is_checkmate = 0\n",
    "        is_castling = board.is_castling(move)\n",
    "        is_promotion = 1 if move.promotion else 0\n",
    "        promotion_piece = move.promotion if move.promotion else None\n",
    "        is_en_passant = board.is_en_passant(move)\n",
    "\n",
    "        piece = board.piece_at(move.from_square)\n",
    "        if piece:\n",
    "            piece_moved = piece.piece_type\n",
    "\n",
    "        if board.is_capture(move):\n",
    "            is_capture = 1\n",
    "            captured = board.piece_at(move.to_square)\n",
    "            if captured:\n",
    "                captured_piece = captured.piece_type\n",
    "\n",
    "        # Apply move to see new board state\n",
    "        board.push(move)\n",
    "        is_check = 1 if board.is_check() else 0\n",
    "        is_checkmate = 1 if board.is_checkmate() else 0\n",
    "\n",
    "        mat_score = material_score(board)\n",
    "\n",
    "        ply += 1\n",
    "        game_list.append({\n",
    "            \"game_id\": game_tuple[0],\n",
    "            \"ply\": ply,\n",
    "            \"fen\": fen,\n",
    "            \"move_uci\": move_uci,\n",
    "            \"move_san\": move_san,\n",
    "            \"player\": player,\n",
    "            \"piece_moved\": piece_moved,\n",
    "            \"is_capture\": is_capture,\n",
    "            \"captured_piece\": captured_piece if captured_piece else 0,\n",
    "            \"is_check\": is_check,\n",
    "            \"is_checkmate\": is_checkmate,\n",
    "            \"is_castling\": int(is_castling),\n",
    "            \"is_en_passant\": int(is_en_passant),\n",
    "            \"is_promotion\": is_promotion,\n",
    "            \"promotion_piece\": promotion_piece if promotion_piece else 0,\n",
    "            \"material_score\": mat_score,\n",
    "            \"result\": outcome,\n",
    "            \"game_moves\": total_moves,\n",
    "            \"is_mate_win\": 1 if \"#\" in move_san else 0,\n",
    "            'termination': termination,\n",
    "            'is_loss_by_time' : is_loss_by_time,\n",
    "            'is_resignation': is_loss_by_time,\n",
    "            'pre_loss_score': pre_loss_score if pre_loss_score else 0\n",
    "        })\n",
    "\n",
    "    return game_list if game_list else None\n"
   ]
  },
  {
   "cell_type": "code",
   "execution_count": 4,
   "id": "94fa0ed5941c1c3c",
   "metadata": {
    "ExecuteTime": {
     "end_time": "2025-05-29T03:51:57.804622Z",
     "start_time": "2025-05-29T03:51:57.800614Z"
    }
   },
   "outputs": [],
   "source": [
    "\n",
    "def get_completed_chunk_ids(path=None):\n",
    "\n",
    "    completed_chunks = os.listdir(path)\n",
    "    completed_chunks_ids = [int(re.search(r'\\d+', chunk)[0]) for chunk in completed_chunks]\n",
    "    return completed_chunks_ids\n",
    "\n",
    "def process_and_save_chunk(games_chunk, chunk_idx,path=None):\n",
    "    results = list(filter(None, map(lambda g: game_pipeline_from_text(g), games_chunk)))\n",
    "    flat_results = [entry for game in results for entry in game]  # Flatten list\n",
    "    df = pd.DataFrame(flat_results)\n",
    "    df.to_parquet(path / f'parquet_{chunk_idx}.parquet', index=False)\n",
    "    print(f\"Saved chunk {chunk_idx} with {len(results)} valid games\")"
   ]
  },
  {
   "cell_type": "code",
   "execution_count": 5,
   "id": "9af1ec54fe202522",
   "metadata": {
    "ExecuteTime": {
     "end_time": "2025-05-29T03:50:18.265067Z",
     "start_time": "2025-05-29T03:50:18.262258Z"
    }
   },
   "outputs": [],
   "source": [
    "file = '../data/raw/lichess_db_standard_rated_2016-03.pgn'"
   ]
  },
  {
   "cell_type": "code",
   "execution_count": 6,
   "id": "d180e554-bf0e-47e6-be7a-7a3571a52b0c",
   "metadata": {},
   "outputs": [],
   "source": [
    "parquet_dir = Path.cwd().parent / 'data' / 'enriched_parquets' "
   ]
  },
  {
   "cell_type": "code",
   "execution_count": 7,
   "id": "0bc53fbb-0584-41bb-9894-d6da68a640cd",
   "metadata": {},
   "outputs": [],
   "source": [
    "def run_pipeline(source_file = None,save_dir=None):\n",
    "    os.makedirs(save_dir,exist_ok=True)\n",
    "    if source_file is None:\n",
    "        return\n",
    "        \n",
    "    chunk_size = 10_000\n",
    "    game_idx = 0\n",
    "    games_chunk = []\n",
    "    completed_chunks_ids = get_completed_chunk_ids(path=save_dir)\n",
    "    \n",
    "    with open(source_file) as f:\n",
    "        total_games = sum(1 for _ in chess.pgn.read_game(f) if _ is not None)\n",
    "    with open(source_file) as f:\n",
    "        pbar = tqdm(total=total_games, desc=\"Processing games\")\n",
    "        while True:\n",
    "            current_chunk_idx = game_idx // chunk_size    \n",
    "            if current_chunk_idx in completed_chunks_ids:\n",
    "                print(f'Skipping chunk {current_chunk_idx}')\n",
    "                for _ in range(chunk_size):\n",
    "                    game = chess.pgn.read_game(f)\n",
    "                    if game is None:\n",
    "                        break\n",
    "                    game_idx += 1\n",
    "                    pbar.update(1)\n",
    "                continue\n",
    "    \n",
    "            game = chess.pgn.read_game(f)\n",
    "            if game is None:\n",
    "                break\n",
    "            games_chunk.append((game_idx,str(game)))\n",
    "            game_idx += 1\n",
    "            pbar.update(1)\n",
    "    \n",
    "            if len(games_chunk) >= chunk_size:\n",
    "                print(f'Processing chunk {current_chunk_idx} ')\n",
    "                process_and_save_chunk(games_chunk, current_chunk_idx,save_dir)  # usa un número razonable o calcula primero\n",
    "                games_chunk = []\n",
    "    \n",
    "    \n",
    "    # Procesar último chunk\n",
    "    if games_chunk:\n",
    "        current_chunk_idx = game_idx // chunk_size\n",
    "        print(f\"Processing final chunk {current_chunk_idx}...\")\n",
    "        process_and_save_chunk(games_chunk, current_chunk_idx,save_dir)\n",
    "    pbar.close()\n"
   ]
  },
  {
   "cell_type": "code",
   "execution_count": 8,
   "id": "f097bd6f-8617-44b5-b38c-e1a020cadb00",
   "metadata": {},
   "outputs": [
    {
     "data": {
      "application/vnd.jupyter.widget-view+json": {
       "model_id": "2c414193a9054286b53bb8885eee3260",
       "version_major": 2,
       "version_minor": 0
      },
      "text/plain": [
       "Processing games: 0it [00:00, ?it/s]"
      ]
     },
     "metadata": {},
     "output_type": "display_data"
    },
    {
     "name": "stdout",
     "output_type": "stream",
     "text": [
      "Processing chunk 0 \n",
      "Saved chunk 0 with 9976 valid games\n"
     ]
    },
    {
     "name": "stderr",
     "output_type": "stream",
     "text": [
      "\n",
      "KeyboardInterrupt\n",
      "\n"
     ]
    }
   ],
   "source": [
    "run_pipeline(file,parquet_dir)"
   ]
  },
  {
   "cell_type": "code",
   "execution_count": null,
   "id": "5f242028-0719-463f-a131-a42890bd5866",
   "metadata": {},
   "outputs": [],
   "source": []
  }
 ],
 "metadata": {
  "kernelspec": {
   "display_name": "Python 3 (ipykernel)",
   "language": "python",
   "name": "python3"
  },
  "language_info": {
   "codemirror_mode": {
    "name": "ipython",
    "version": 3
   },
   "file_extension": ".py",
   "mimetype": "text/x-python",
   "name": "python",
   "nbconvert_exporter": "python",
   "pygments_lexer": "ipython3",
   "version": "3.10.12"
  }
 },
 "nbformat": 4,
 "nbformat_minor": 5
}
