{
 "cells": [
  {
   "cell_type": "code",
   "execution_count": 9,
   "id": "initial_id",
   "metadata": {
    "ExecuteTime": {
     "end_time": "2025-05-29T03:50:17.547387Z",
     "start_time": "2025-05-29T03:50:12.226649Z"
    }
   },
   "outputs": [],
   "source": [
    "import tensorflow as tf\n",
    "import chess.pgn\n",
    "import pandas as pd\n",
    "import numpy as np\n",
    "import os\n",
    "import time\n",
    "import multiprocessing as mp\n",
    "import random\n",
    "import io\n",
    "import re\n",
    "import dask.dataframe as dd\n",
    "import glob\n",
    "from pathlib import Path\n",
    "    \n",
    "from tqdm.notebook import tqdm"
   ]
  },
  {
   "cell_type": "code",
   "execution_count": 10,
   "id": "8fab3a25944112e7",
   "metadata": {
    "ExecuteTime": {
     "end_time": "2025-05-29T03:50:18.022788Z",
     "start_time": "2025-05-29T03:50:17.562993Z"
    }
   },
   "outputs": [
    {
     "name": "stdout",
     "output_type": "stream",
     "text": [
      "Now using gpu\n"
     ]
    }
   ],
   "source": [
    "gpus = tf.config.experimental.list_physical_devices('GPU')\n",
    "\n",
    "try:\n",
    "    if gpus:\n",
    "        tf.config.experimental.set_visible_devices(gpus[0], 'GPU')\n",
    "        tf.config.set_visible_devices(gpus[0], 'GPU')\n",
    "        print('Now using gpu')\n",
    "    else: print('Unable to use the gpu')\n",
    "\n",
    "\n",
    "except RuntimeError as e:\n",
    "    print(f'Something went wrong: {e}')\n"
   ]
  },
  {
   "cell_type": "code",
   "execution_count": 11,
   "id": "3ae93107ac3e949d",
   "metadata": {
    "ExecuteTime": {
     "end_time": "2025-05-29T03:51:56.789449Z",
     "start_time": "2025-05-29T03:51:56.785302Z"
    }
   },
   "outputs": [],
   "source": [
    "piece_values = {\n",
    "    chess.PAWN: 1,\n",
    "    chess.KNIGHT: 3,\n",
    "    chess.BISHOP: 3,\n",
    "    chess.ROOK: 5,\n",
    "    chess.QUEEN: 9,\n",
    "}\n",
    "\n",
    "\n",
    "def material_score(board):\n",
    "    \"\"\"Devuelve el balance de material (positivo = blancas mejor, negativo = negras mejor).\"\"\"\n",
    "    score = 0\n",
    "    for piece_type, val in piece_values.items():\n",
    "        score += len(board.pieces(piece_type, chess.WHITE)) * val\n",
    "        score -= len(board.pieces(piece_type, chess.BLACK)) * val\n",
    "    return score\n",
    "\n",
    "\n",
    "def game_pipeline_from_text(game_tuple):\n",
    "    game = chess.pgn.read_game(io.StringIO(game_tuple[1]))\n",
    "    if game is None:\n",
    "        return None\n",
    "\n",
    "    moves = list(game.mainline_moves())\n",
    "    board = game.board()\n",
    "    result = game.headers.get(\"Result\", \"*\")\n",
    "    outcome = 1 if result == \"1-0\" else -1 if result == \"0-1\" else 0\n",
    "    total_moves = len(moves)\n",
    "\n",
    "    game_list = []\n",
    "    ply = 0  # half-move counter\n",
    "\n",
    "    for move in moves:\n",
    "        fen = board.fen()\n",
    "        move_uci = move.uci()\n",
    "        move_san = board.san(move)\n",
    "        player = \"white\" if board.turn == chess.WHITE else \"black\"\n",
    "\n",
    "        # --- Enrichment ---\n",
    "        piece_moved = None\n",
    "        is_capture = 0\n",
    "        captured_piece = None\n",
    "        is_check = 0\n",
    "        is_checkmate = 0\n",
    "        is_castling = board.is_castling(move)\n",
    "        is_promotion = 1 if move.promotion else 0\n",
    "        promotion_piece = move.promotion if move.promotion else None\n",
    "        is_en_passant = board.is_en_passant(move)\n",
    "\n",
    "        piece = board.piece_at(move.from_square)\n",
    "        if piece:\n",
    "            piece_moved = piece.piece_type\n",
    "\n",
    "        if board.is_capture(move):\n",
    "            is_capture = 1\n",
    "            captured = board.piece_at(move.to_square)\n",
    "            if captured:\n",
    "                captured_piece = captured.piece_type\n",
    "\n",
    "        # Apply move to see new board state\n",
    "        board.push(move)\n",
    "        is_check = 1 if board.is_check() else 0\n",
    "        is_checkmate = 1 if board.is_checkmate() else 0\n",
    "\n",
    "        mat_score = material_score(board)\n",
    "\n",
    "        ply += 1\n",
    "        game_list.append({\n",
    "            \"game_id\": game_tuple[0],\n",
    "            \"ply\": ply,\n",
    "            \"fen\": fen,\n",
    "            \"move_uci\": move_uci,\n",
    "            \"move_san\": move_san,\n",
    "            \"player\": player,\n",
    "            \"piece_moved\": piece_moved,\n",
    "            \"is_capture\": is_capture,\n",
    "            \"captured_piece\": captured_piece if captured_piece else 0,\n",
    "            \"is_check\": is_check,\n",
    "            \"is_checkmate\": is_checkmate,\n",
    "            \"is_castling\": int(is_castling),\n",
    "            \"is_en_passant\": int(is_en_passant),\n",
    "            \"is_promotion\": is_promotion,\n",
    "            \"promotion_piece\": promotion_piece if promotion_piece else 0,\n",
    "            \"material_score\": mat_score,\n",
    "            \"result\": outcome,\n",
    "            \"game_moves\": total_moves,\n",
    "            \"mate_win\": 1 if \"#\" in move_san else 0\n",
    "        })\n",
    "\n",
    "    return game_list if game_list else None\n"
   ]
  },
  {
   "cell_type": "code",
   "execution_count": 12,
   "id": "94fa0ed5941c1c3c",
   "metadata": {
    "ExecuteTime": {
     "end_time": "2025-05-29T03:51:57.804622Z",
     "start_time": "2025-05-29T03:51:57.800614Z"
    }
   },
   "outputs": [],
   "source": [
    "\n",
    "def get_completed_chunk_ids(path=None):\n",
    "\n",
    "    completed_chunks = os.listdir(path)\n",
    "    completed_chunks_ids = [int(re.search(r'\\d+', chunk)[0]) for chunk in completed_chunks]\n",
    "    return completed_chunks_ids\n",
    "\n",
    "def process_and_save_chunk(games_chunk, chunk_idx,path=None):\n",
    "    results = list(filter(None, map(lambda g: game_pipeline_from_text(g), games_chunk)))\n",
    "    flat_results = [entry for game in results for entry in game]  # Flatten list\n",
    "    df = pd.DataFrame(flat_results)\n",
    "    df.to_parquet(path / f'parquet_{chunk_idx}.parquet', index=False)\n",
    "    print(f\"Saved chunk {chunk_idx} with {len(results)} valid games\")"
   ]
  },
  {
   "cell_type": "code",
   "execution_count": 13,
   "id": "9af1ec54fe202522",
   "metadata": {
    "ExecuteTime": {
     "end_time": "2025-05-29T03:50:18.265067Z",
     "start_time": "2025-05-29T03:50:18.262258Z"
    }
   },
   "outputs": [],
   "source": [
    "file = '../data/raw/lichess_db_standard_rated_2016-03.pgn'"
   ]
  },
  {
   "cell_type": "code",
   "execution_count": 14,
   "id": "d180e554-bf0e-47e6-be7a-7a3571a52b0c",
   "metadata": {},
   "outputs": [],
   "source": [
    "parquet_dir = Path.cwd().parent / 'data' / 'enriched_parquets' "
   ]
  },
  {
   "cell_type": "code",
   "execution_count": 15,
   "id": "0bc53fbb-0584-41bb-9894-d6da68a640cd",
   "metadata": {},
   "outputs": [],
   "source": [
    "def run_pipeline(source_file = None,save_dir=None):\n",
    "    os.makedirs(save_dir,exist_ok=True)\n",
    "    if source_file is None:\n",
    "        return\n",
    "        \n",
    "    chunk_size = 10_000\n",
    "    game_idx = 0\n",
    "    games_chunk = []\n",
    "    completed_chunks_ids = get_completed_chunk_ids(path=save_dir)\n",
    "    \n",
    "    with open(source_file) as f:\n",
    "        total_games = sum(1 for _ in chess.pgn.read_game(f) if _ is not None)\n",
    "    with open(source_file) as f:\n",
    "        pbar = tqdm(total=total_games, desc=\"Processing games\")\n",
    "        while True:\n",
    "            current_chunk_idx = game_idx // chunk_size    \n",
    "            if current_chunk_idx in completed_chunks_ids:\n",
    "                print(f'Skipping chunk {current_chunk_idx}')\n",
    "                for _ in range(chunk_size):\n",
    "                    game = chess.pgn.read_game(f)\n",
    "                    if game is None:\n",
    "                        break\n",
    "                    game_idx += 1\n",
    "                    pbar.update(1)\n",
    "                continue\n",
    "    \n",
    "            game = chess.pgn.read_game(f)\n",
    "            if game is None:\n",
    "                break\n",
    "            games_chunk.append((game_idx,str(game)))\n",
    "            game_idx += 1\n",
    "            pbar.update(1)\n",
    "    \n",
    "            if len(games_chunk) >= chunk_size:\n",
    "                print(f'Processing chunk {current_chunk_idx} ')\n",
    "                process_and_save_chunk(games_chunk, current_chunk_idx,save_dir)  # usa un número razonable o calcula primero\n",
    "                games_chunk = []\n",
    "    \n",
    "    \n",
    "    # Procesar último chunk\n",
    "    if games_chunk:\n",
    "        current_chunk_idx = game_idx // chunk_size\n",
    "        print(f\"Processing final chunk {current_chunk_idx}...\")\n",
    "        process_and_save_chunk(games_chunk, current_chunk_idx,save_dir)\n",
    "    pbar.close()\n"
   ]
  },
  {
   "cell_type": "code",
   "execution_count": 16,
   "id": "f097bd6f-8617-44b5-b38c-e1a020cadb00",
   "metadata": {},
   "outputs": [
    {
     "data": {
      "application/vnd.jupyter.widget-view+json": {
       "model_id": "344ebc1276534ddf94452d269ff3c072",
       "version_major": 2,
       "version_minor": 0
      },
      "text/plain": [
       "Processing games: 0it [00:00, ?it/s]"
      ]
     },
     "metadata": {},
     "output_type": "display_data"
    },
    {
     "name": "stdout",
     "output_type": "stream",
     "text": [
      "Skipping chunk 0\n",
      "Skipping chunk 1\n",
      "Skipping chunk 2\n",
      "Skipping chunk 3\n",
      "Skipping chunk 4\n",
      "Skipping chunk 5\n",
      "Skipping chunk 6\n",
      "Skipping chunk 7\n",
      "Skipping chunk 8\n",
      "Skipping chunk 9\n",
      "Skipping chunk 10\n",
      "Skipping chunk 11\n",
      "Skipping chunk 12\n",
      "Processing chunk 13 \n",
      "Saved chunk 13 with 9983 valid games\n",
      "Processing chunk 14 \n",
      "Saved chunk 14 with 9951 valid games\n",
      "Processing chunk 15 \n",
      "Saved chunk 15 with 9971 valid games\n",
      "Processing chunk 16 \n",
      "Saved chunk 16 with 9972 valid games\n",
      "Processing chunk 17 \n",
      "Saved chunk 17 with 9969 valid games\n",
      "Processing chunk 18 \n",
      "Saved chunk 18 with 9877 valid games\n",
      "Processing chunk 19 \n",
      "Saved chunk 19 with 9911 valid games\n",
      "Processing chunk 20 \n",
      "Saved chunk 20 with 9975 valid games\n",
      "Processing chunk 21 \n",
      "Saved chunk 21 with 9953 valid games\n",
      "Processing chunk 22 \n",
      "Saved chunk 22 with 9968 valid games\n",
      "Processing chunk 23 \n",
      "Saved chunk 23 with 9978 valid games\n",
      "Processing chunk 24 \n",
      "Saved chunk 24 with 9969 valid games\n",
      "Processing chunk 25 \n",
      "Saved chunk 25 with 9974 valid games\n",
      "Processing chunk 26 \n",
      "Saved chunk 26 with 9979 valid games\n",
      "Processing chunk 27 \n",
      "Saved chunk 27 with 9980 valid games\n",
      "Processing chunk 28 \n",
      "Saved chunk 28 with 9974 valid games\n",
      "Processing chunk 29 \n",
      "Saved chunk 29 with 9972 valid games\n",
      "Processing chunk 30 \n",
      "Saved chunk 30 with 9986 valid games\n",
      "Processing chunk 31 \n",
      "Saved chunk 31 with 9978 valid games\n",
      "Processing chunk 32 \n",
      "Saved chunk 32 with 9984 valid games\n",
      "Processing chunk 33 \n",
      "Saved chunk 33 with 9976 valid games\n",
      "Processing chunk 34 \n",
      "Saved chunk 34 with 9843 valid games\n",
      "Processing chunk 35 \n",
      "Saved chunk 35 with 9862 valid games\n",
      "Processing chunk 36 \n",
      "Saved chunk 36 with 9969 valid games\n",
      "Processing chunk 37 \n"
     ]
    },
    {
     "ename": "KeyboardInterrupt",
     "evalue": "",
     "output_type": "error",
     "traceback": [
      "\u001b[0;31m---------------------------------------------------------------------------\u001b[0m",
      "\u001b[0;31mKeyboardInterrupt\u001b[0m                         Traceback (most recent call last)",
      "Cell \u001b[0;32mIn[16], line 1\u001b[0m\n\u001b[0;32m----> 1\u001b[0m \u001b[43mrun_pipeline\u001b[49m\u001b[43m(\u001b[49m\u001b[43mfile\u001b[49m\u001b[43m,\u001b[49m\u001b[43mparquet_dir\u001b[49m\u001b[43m)\u001b[49m\n",
      "Cell \u001b[0;32mIn[15], line 36\u001b[0m, in \u001b[0;36mrun_pipeline\u001b[0;34m(source_file, save_dir)\u001b[0m\n\u001b[1;32m     34\u001b[0m         \u001b[38;5;28;01mif\u001b[39;00m \u001b[38;5;28mlen\u001b[39m(games_chunk) \u001b[38;5;241m>\u001b[39m\u001b[38;5;241m=\u001b[39m chunk_size:\n\u001b[1;32m     35\u001b[0m             \u001b[38;5;28mprint\u001b[39m(\u001b[38;5;124mf\u001b[39m\u001b[38;5;124m'\u001b[39m\u001b[38;5;124mProcessing chunk \u001b[39m\u001b[38;5;132;01m{\u001b[39;00mcurrent_chunk_idx\u001b[38;5;132;01m}\u001b[39;00m\u001b[38;5;124m \u001b[39m\u001b[38;5;124m'\u001b[39m)\n\u001b[0;32m---> 36\u001b[0m             \u001b[43mprocess_and_save_chunk\u001b[49m\u001b[43m(\u001b[49m\u001b[43mgames_chunk\u001b[49m\u001b[43m,\u001b[49m\u001b[43m \u001b[49m\u001b[43mcurrent_chunk_idx\u001b[49m\u001b[43m,\u001b[49m\u001b[43msave_dir\u001b[49m\u001b[43m)\u001b[49m  \u001b[38;5;66;03m# usa un número razonable o calcula primero\u001b[39;00m\n\u001b[1;32m     37\u001b[0m             games_chunk \u001b[38;5;241m=\u001b[39m []\n\u001b[1;32m     40\u001b[0m \u001b[38;5;66;03m# Procesar último chunk\u001b[39;00m\n",
      "Cell \u001b[0;32mIn[12], line 8\u001b[0m, in \u001b[0;36mprocess_and_save_chunk\u001b[0;34m(games_chunk, chunk_idx, path)\u001b[0m\n\u001b[1;32m      7\u001b[0m \u001b[38;5;28;01mdef\u001b[39;00m\u001b[38;5;250m \u001b[39m\u001b[38;5;21mprocess_and_save_chunk\u001b[39m(games_chunk, chunk_idx,path\u001b[38;5;241m=\u001b[39m\u001b[38;5;28;01mNone\u001b[39;00m):\n\u001b[0;32m----> 8\u001b[0m     results \u001b[38;5;241m=\u001b[39m \u001b[38;5;28;43mlist\u001b[39;49m\u001b[43m(\u001b[49m\u001b[38;5;28;43mfilter\u001b[39;49m\u001b[43m(\u001b[49m\u001b[38;5;28;43;01mNone\u001b[39;49;00m\u001b[43m,\u001b[49m\u001b[43m \u001b[49m\u001b[38;5;28;43mmap\u001b[39;49m\u001b[43m(\u001b[49m\u001b[38;5;28;43;01mlambda\u001b[39;49;00m\u001b[43m \u001b[49m\u001b[43mg\u001b[49m\u001b[43m:\u001b[49m\u001b[43m \u001b[49m\u001b[43mgame_pipeline_from_text\u001b[49m\u001b[43m(\u001b[49m\u001b[43mg\u001b[49m\u001b[43m)\u001b[49m\u001b[43m,\u001b[49m\u001b[43m \u001b[49m\u001b[43mgames_chunk\u001b[49m\u001b[43m)\u001b[49m\u001b[43m)\u001b[49m\u001b[43m)\u001b[49m\n\u001b[1;32m      9\u001b[0m     flat_results \u001b[38;5;241m=\u001b[39m [entry \u001b[38;5;28;01mfor\u001b[39;00m game \u001b[38;5;129;01min\u001b[39;00m results \u001b[38;5;28;01mfor\u001b[39;00m entry \u001b[38;5;129;01min\u001b[39;00m game]  \u001b[38;5;66;03m# Flatten list\u001b[39;00m\n\u001b[1;32m     10\u001b[0m     df \u001b[38;5;241m=\u001b[39m pd\u001b[38;5;241m.\u001b[39mDataFrame(flat_results)\n",
      "Cell \u001b[0;32mIn[12], line 8\u001b[0m, in \u001b[0;36mprocess_and_save_chunk.<locals>.<lambda>\u001b[0;34m(g)\u001b[0m\n\u001b[1;32m      7\u001b[0m \u001b[38;5;28;01mdef\u001b[39;00m\u001b[38;5;250m \u001b[39m\u001b[38;5;21mprocess_and_save_chunk\u001b[39m(games_chunk, chunk_idx,path\u001b[38;5;241m=\u001b[39m\u001b[38;5;28;01mNone\u001b[39;00m):\n\u001b[0;32m----> 8\u001b[0m     results \u001b[38;5;241m=\u001b[39m \u001b[38;5;28mlist\u001b[39m(\u001b[38;5;28mfilter\u001b[39m(\u001b[38;5;28;01mNone\u001b[39;00m, \u001b[38;5;28mmap\u001b[39m(\u001b[38;5;28;01mlambda\u001b[39;00m g: \u001b[43mgame_pipeline_from_text\u001b[49m\u001b[43m(\u001b[49m\u001b[43mg\u001b[49m\u001b[43m)\u001b[49m, games_chunk)))\n\u001b[1;32m      9\u001b[0m     flat_results \u001b[38;5;241m=\u001b[39m [entry \u001b[38;5;28;01mfor\u001b[39;00m game \u001b[38;5;129;01min\u001b[39;00m results \u001b[38;5;28;01mfor\u001b[39;00m entry \u001b[38;5;129;01min\u001b[39;00m game]  \u001b[38;5;66;03m# Flatten list\u001b[39;00m\n\u001b[1;32m     10\u001b[0m     df \u001b[38;5;241m=\u001b[39m pd\u001b[38;5;241m.\u001b[39mDataFrame(flat_results)\n",
      "Cell \u001b[0;32mIn[11], line 36\u001b[0m, in \u001b[0;36mgame_pipeline_from_text\u001b[0;34m(game_tuple)\u001b[0m\n\u001b[1;32m     34\u001b[0m fen \u001b[38;5;241m=\u001b[39m board\u001b[38;5;241m.\u001b[39mfen()\n\u001b[1;32m     35\u001b[0m move_uci \u001b[38;5;241m=\u001b[39m move\u001b[38;5;241m.\u001b[39muci()\n\u001b[0;32m---> 36\u001b[0m move_san \u001b[38;5;241m=\u001b[39m \u001b[43mboard\u001b[49m\u001b[38;5;241;43m.\u001b[39;49m\u001b[43msan\u001b[49m\u001b[43m(\u001b[49m\u001b[43mmove\u001b[49m\u001b[43m)\u001b[49m\n\u001b[1;32m     37\u001b[0m player \u001b[38;5;241m=\u001b[39m \u001b[38;5;124m\"\u001b[39m\u001b[38;5;124mwhite\u001b[39m\u001b[38;5;124m\"\u001b[39m \u001b[38;5;28;01mif\u001b[39;00m board\u001b[38;5;241m.\u001b[39mturn \u001b[38;5;241m==\u001b[39m chess\u001b[38;5;241m.\u001b[39mWHITE \u001b[38;5;28;01melse\u001b[39;00m \u001b[38;5;124m\"\u001b[39m\u001b[38;5;124mblack\u001b[39m\u001b[38;5;124m\"\u001b[39m\n\u001b[1;32m     39\u001b[0m \u001b[38;5;66;03m# --- Enrichment ---\u001b[39;00m\n",
      "File \u001b[0;32m~/.local/lib/python3.10/site-packages/chess/__init__.py:2986\u001b[0m, in \u001b[0;36mBoard.san\u001b[0;34m(self, move)\u001b[0m\n\u001b[1;32m   2981\u001b[0m \u001b[38;5;28;01mdef\u001b[39;00m\u001b[38;5;250m \u001b[39m\u001b[38;5;21msan\u001b[39m(\u001b[38;5;28mself\u001b[39m, move: Move) \u001b[38;5;241m-\u001b[39m\u001b[38;5;241m>\u001b[39m \u001b[38;5;28mstr\u001b[39m:\n\u001b[1;32m   2982\u001b[0m \u001b[38;5;250m    \u001b[39m\u001b[38;5;124;03m\"\"\"\u001b[39;00m\n\u001b[1;32m   2983\u001b[0m \u001b[38;5;124;03m    Gets the standard algebraic notation of the given move in the context\u001b[39;00m\n\u001b[1;32m   2984\u001b[0m \u001b[38;5;124;03m    of the current position.\u001b[39;00m\n\u001b[1;32m   2985\u001b[0m \u001b[38;5;124;03m    \"\"\"\u001b[39;00m\n\u001b[0;32m-> 2986\u001b[0m     \u001b[38;5;28;01mreturn\u001b[39;00m \u001b[38;5;28;43mself\u001b[39;49m\u001b[38;5;241;43m.\u001b[39;49m\u001b[43m_algebraic\u001b[49m\u001b[43m(\u001b[49m\u001b[43mmove\u001b[49m\u001b[43m)\u001b[49m\n",
      "File \u001b[0;32m~/.local/lib/python3.10/site-packages/chess/__init__.py:2999\u001b[0m, in \u001b[0;36mBoard._algebraic\u001b[0;34m(self, move, long)\u001b[0m\n\u001b[1;32m   2998\u001b[0m \u001b[38;5;28;01mdef\u001b[39;00m\u001b[38;5;250m \u001b[39m\u001b[38;5;21m_algebraic\u001b[39m(\u001b[38;5;28mself\u001b[39m, move: Move, \u001b[38;5;241m*\u001b[39m, long: \u001b[38;5;28mbool\u001b[39m \u001b[38;5;241m=\u001b[39m \u001b[38;5;28;01mFalse\u001b[39;00m) \u001b[38;5;241m-\u001b[39m\u001b[38;5;241m>\u001b[39m \u001b[38;5;28mstr\u001b[39m:\n\u001b[0;32m-> 2999\u001b[0m     san \u001b[38;5;241m=\u001b[39m \u001b[38;5;28;43mself\u001b[39;49m\u001b[38;5;241;43m.\u001b[39;49m\u001b[43m_algebraic_and_push\u001b[49m\u001b[43m(\u001b[49m\u001b[43mmove\u001b[49m\u001b[43m,\u001b[49m\u001b[43m \u001b[49m\u001b[43mlong\u001b[49m\u001b[38;5;241;43m=\u001b[39;49m\u001b[43mlong\u001b[49m\u001b[43m)\u001b[49m\n\u001b[1;32m   3000\u001b[0m     \u001b[38;5;28mself\u001b[39m\u001b[38;5;241m.\u001b[39mpop()\n\u001b[1;32m   3001\u001b[0m     \u001b[38;5;28;01mreturn\u001b[39;00m san\n",
      "File \u001b[0;32m~/.local/lib/python3.10/site-packages/chess/__init__.py:3004\u001b[0m, in \u001b[0;36mBoard._algebraic_and_push\u001b[0;34m(self, move, long)\u001b[0m\n\u001b[1;32m   3003\u001b[0m \u001b[38;5;28;01mdef\u001b[39;00m\u001b[38;5;250m \u001b[39m\u001b[38;5;21m_algebraic_and_push\u001b[39m(\u001b[38;5;28mself\u001b[39m, move: Move, \u001b[38;5;241m*\u001b[39m, long: \u001b[38;5;28mbool\u001b[39m \u001b[38;5;241m=\u001b[39m \u001b[38;5;28;01mFalse\u001b[39;00m) \u001b[38;5;241m-\u001b[39m\u001b[38;5;241m>\u001b[39m \u001b[38;5;28mstr\u001b[39m:\n\u001b[0;32m-> 3004\u001b[0m     san \u001b[38;5;241m=\u001b[39m \u001b[38;5;28;43mself\u001b[39;49m\u001b[38;5;241;43m.\u001b[39;49m\u001b[43m_algebraic_without_suffix\u001b[49m\u001b[43m(\u001b[49m\u001b[43mmove\u001b[49m\u001b[43m,\u001b[49m\u001b[43m \u001b[49m\u001b[43mlong\u001b[49m\u001b[38;5;241;43m=\u001b[39;49m\u001b[43mlong\u001b[49m\u001b[43m)\u001b[49m\n\u001b[1;32m   3006\u001b[0m     \u001b[38;5;66;03m# Look ahead for check or checkmate.\u001b[39;00m\n\u001b[1;32m   3007\u001b[0m     \u001b[38;5;28mself\u001b[39m\u001b[38;5;241m.\u001b[39mpush(move)\n",
      "File \u001b[0;32m~/.local/lib/python3.10/site-packages/chess/__init__.py:3058\u001b[0m, in \u001b[0;36mBoard._algebraic_without_suffix\u001b[0;34m(self, move, long)\u001b[0m\n\u001b[1;32m   3056\u001b[0m from_mask \u001b[38;5;241m&\u001b[39m\u001b[38;5;241m=\u001b[39m \u001b[38;5;241m~\u001b[39mBB_SQUARES[move\u001b[38;5;241m.\u001b[39mfrom_square]\n\u001b[1;32m   3057\u001b[0m to_mask \u001b[38;5;241m=\u001b[39m BB_SQUARES[move\u001b[38;5;241m.\u001b[39mto_square]\n\u001b[0;32m-> 3058\u001b[0m \u001b[38;5;28;01mfor\u001b[39;00m candidate \u001b[38;5;129;01min\u001b[39;00m \u001b[38;5;28mself\u001b[39m\u001b[38;5;241m.\u001b[39mgenerate_legal_moves(from_mask, to_mask):\n\u001b[1;32m   3059\u001b[0m     others \u001b[38;5;241m|\u001b[39m\u001b[38;5;241m=\u001b[39m BB_SQUARES[candidate\u001b[38;5;241m.\u001b[39mfrom_square]\n\u001b[1;32m   3061\u001b[0m \u001b[38;5;66;03m# Disambiguate.\u001b[39;00m\n",
      "File \u001b[0;32m~/.local/lib/python3.10/site-packages/chess/__init__.py:3716\u001b[0m, in \u001b[0;36mBoard.generate_legal_moves\u001b[0;34m(self, from_mask, to_mask)\u001b[0m\n\u001b[1;32m   3714\u001b[0m             \u001b[38;5;28;01myield\u001b[39;00m move\n\u001b[1;32m   3715\u001b[0m \u001b[38;5;28;01melse\u001b[39;00m:\n\u001b[0;32m-> 3716\u001b[0m     \u001b[38;5;28;01mfor\u001b[39;00m move \u001b[38;5;129;01min\u001b[39;00m \u001b[38;5;28;43mself\u001b[39;49m\u001b[38;5;241;43m.\u001b[39;49m\u001b[43mgenerate_pseudo_legal_moves\u001b[49m\u001b[43m(\u001b[49m\u001b[43mfrom_mask\u001b[49m\u001b[43m,\u001b[49m\u001b[43m \u001b[49m\u001b[43mto_mask\u001b[49m\u001b[43m)\u001b[49m:\n\u001b[1;32m   3717\u001b[0m         \u001b[38;5;28;01mif\u001b[39;00m \u001b[38;5;28mself\u001b[39m\u001b[38;5;241m.\u001b[39m_is_safe(king, blockers, move):\n\u001b[1;32m   3718\u001b[0m             \u001b[38;5;28;01myield\u001b[39;00m move\n",
      "\u001b[0;31mKeyboardInterrupt\u001b[0m: "
     ]
    }
   ],
   "source": [
    "run_pipeline(file,parquet_dir)"
   ]
  },
  {
   "cell_type": "code",
   "execution_count": null,
   "id": "5f242028-0719-463f-a131-a42890bd5866",
   "metadata": {},
   "outputs": [],
   "source": []
  }
 ],
 "metadata": {
  "kernelspec": {
   "display_name": "Python 3 (ipykernel)",
   "language": "python",
   "name": "python3"
  },
  "language_info": {
   "codemirror_mode": {
    "name": "ipython",
    "version": 3
   },
   "file_extension": ".py",
   "mimetype": "text/x-python",
   "name": "python",
   "nbconvert_exporter": "python",
   "pygments_lexer": "ipython3",
   "version": "3.10.12"
  }
 },
 "nbformat": 4,
 "nbformat_minor": 5
}
