{
 "cells": [
  {
   "cell_type": "code",
   "execution_count": 1,
   "id": "initial_id",
   "metadata": {
    "ExecuteTime": {
     "end_time": "2025-05-29T03:50:17.547387Z",
     "start_time": "2025-05-29T03:50:12.226649Z"
    }
   },
   "outputs": [
    {
     "name": "stderr",
     "output_type": "stream",
     "text": [
      "2025-05-28 22:43:18.131435: E external/local_xla/xla/stream_executor/cuda/cuda_fft.cc:477] Unable to register cuFFT factory: Attempting to register factory for plugin cuFFT when one has already been registered\n",
      "WARNING: All log messages before absl::InitializeLog() is called are written to STDERR\n",
      "E0000 00:00:1748493798.151802   10676 cuda_dnn.cc:8310] Unable to register cuDNN factory: Attempting to register factory for plugin cuDNN when one has already been registered\n",
      "E0000 00:00:1748493798.157440   10676 cuda_blas.cc:1418] Unable to register cuBLAS factory: Attempting to register factory for plugin cuBLAS when one has already been registered\n",
      "2025-05-28 22:43:18.181800: I tensorflow/core/platform/cpu_feature_guard.cc:210] This TensorFlow binary is optimized to use available CPU instructions in performance-critical operations.\n",
      "To enable the following instructions: AVX2 FMA, in other operations, rebuild TensorFlow with the appropriate compiler flags.\n"
     ]
    }
   ],
   "source": [
    "import tensorflow as tf\n",
    "import chess.pgn\n",
    "import pandas as pd\n",
    "import numpy as np\n",
    "import os\n",
    "import time\n",
    "import multiprocessing as mp\n",
    "import random\n",
    "import io\n",
    "import re\n",
    "import dask.dataframe as dd\n",
    "import glob\n",
    "    \n"
   ]
  },
  {
   "cell_type": "code",
   "execution_count": 2,
   "id": "8fab3a25944112e7",
   "metadata": {
    "ExecuteTime": {
     "end_time": "2025-05-29T03:50:18.022788Z",
     "start_time": "2025-05-29T03:50:17.562993Z"
    }
   },
   "outputs": [
    {
     "name": "stdout",
     "output_type": "stream",
     "text": [
      "Now using gpu\n"
     ]
    }
   ],
   "source": [
    "gpus = tf.config.experimental.list_physical_devices('GPU')\n",
    "\n",
    "try:\n",
    "    if gpus:\n",
    "        tf.config.experimental.set_visible_devices(gpus[0], 'GPU')\n",
    "        tf.config.set_visible_devices(gpus[0], 'GPU')\n",
    "        print('Now using gpu')\n",
    "    else: print('Unable to use the gpu')\n",
    "\n",
    "\n",
    "except RuntimeError as e:\n",
    "    print(f'Something went wrong: {e}')\n"
   ]
  },
  {
   "cell_type": "code",
   "execution_count": 3,
   "id": "9af1ec54fe202522",
   "metadata": {
    "ExecuteTime": {
     "end_time": "2025-05-29T03:50:18.265067Z",
     "start_time": "2025-05-29T03:50:18.262258Z"
    }
   },
   "outputs": [],
   "source": [
    "file = '../data/raw/lichess_db_standard_rated_2016-03.pgn'"
   ]
  },
  {
   "cell_type": "code",
   "execution_count": 4,
   "id": "3ae93107ac3e949d",
   "metadata": {
    "ExecuteTime": {
     "end_time": "2025-05-29T03:51:56.789449Z",
     "start_time": "2025-05-29T03:51:56.785302Z"
    }
   },
   "outputs": [],
   "source": [
    "# def game_pipeline_from_text(game_text):\n",
    "#     game = chess.pgn.read_game(io.StringIO(game_text))\n",
    "#     if game is None:\n",
    "#         return None\n",
    "#\n",
    "#     moves = list(game.mainline_moves())\n",
    "#\n",
    "#     game_list = []\n",
    "#     board = game.board()\n",
    "#     result = game.headers['Result']\n",
    "#     outcome = 1 if result == '1-0' else -1 if result == '0-1' else 0\n",
    "#\n",
    "#     for move in moves:\n",
    "#         fen = board.fen()\n",
    "#         move_uci = move.uci()\n",
    "#         move_san = board.san(move)\n",
    "#         player = 'white' if board.turn == chess.WHITE else 'black'\n",
    "#         game_list.append({\n",
    "#             'fen': fen,\n",
    "#             'move_uci': move_uci,\n",
    "#             'move_san': move_san,\n",
    "#             'player': player,\n",
    "#             'result': outcome\n",
    "#         })\n",
    "#         board.push(move)\n",
    "#\n",
    "#     return game_list if game_list else None\n",
    "#\n",
    "# def process_and_save_chunk(games_chunk, chunk_idx):\n",
    "#     results = list(filter(None, map(lambda g: game_pipeline_from_text(g), games_chunk)))\n",
    "#     flat_results = [entry for game in results for entry in game]  # Flatten list\n",
    "#     df = pd.DataFrame(flat_results)\n",
    "#     df.to_csv(f\"../data/csv/processed_chunk_{chunk_idx}.csv\", index=False)\n",
    "#     print(f\"Saved chunk {chunk_idx} with {len(results)} valid games\")\n",
    "#\n",
    "#\n",
    "# def get_completed_chunk_ids(path='../data/csv/'):\n",
    "#\n",
    "#     completed_chunks = os.listdir(path)\n",
    "#     completed_chunks_ids = [int(re.search(r'\\d+', chunk)[0]) for chunk in completed_chunks]\n",
    "#     return completed_chunks_ids\n",
    "#\n",
    "# chunk_size = 10_000\n",
    "# game_idx = 0\n",
    "# games_chunk = []\n",
    "# completed_chunks_ids = get_completed_chunk_ids()\n",
    "#\n",
    "# with open(file) as f:\n",
    "#     while True:\n",
    "#         game = chess.pgn.read_game(f)\n",
    "#         if game is None:\n",
    "#             break\n",
    "#\n",
    "#         current_chunk_idx = game_idx // chunk_size\n",
    "#\n",
    "#         if current_chunk_idx in completed_chunks_ids:\n",
    "#             game_idx +=1\n",
    "#             continue\n",
    "#         games_chunk.append(str(game))\n",
    "#         game_idx += 1\n",
    "#\n",
    "#         if len(games_chunk) >= chunk_size:\n",
    "#             print(f'Processing chunk {current_chunk_idx} ')\n",
    "#             process_and_save_chunk(games_chunk, current_chunk_idx)  # usa un número razonable o calcula primero\n",
    "#             games_chunk = []\n",
    "#\n",
    "#\n",
    "# # Procesar último chunk\n",
    "# if games_chunk:\n",
    "#     current_chunk_idx = game_idx // chunk_size\n",
    "#     print(f\"Processing final chunk {current_chunk_idx}...\")\n",
    "#     process_and_save_chunk(games_chunk, current_chunk_idx)\n"
   ]
  },
  {
   "cell_type": "code",
   "execution_count": 5,
   "id": "94fa0ed5941c1c3c",
   "metadata": {
    "ExecuteTime": {
     "end_time": "2025-05-29T03:51:57.804622Z",
     "start_time": "2025-05-29T03:51:57.800614Z"
    }
   },
   "outputs": [],
   "source": [
    "#helper function to assing id to the chunks\n",
    "\n",
    "def add_game_id_col(df_chunk):\n",
    "    df_chunk['game_id'] = pd.Series()\n",
    "    idx_start_game = df_chunk.loc[df_chunk['fen']=='rnbqkbnr/pppppppp/8/8/8/8/PPPPPPPP/RNBQKBNR w KQkq - 0 1'].index.to_list()\n",
    "    game_id = 0\n",
    "    for idx in idx_start_game:\n",
    "        df_chunk.iloc[idx,-1] = game_id #iterate over each start of game and add the value in the last created column\n",
    "        game_id += 1\n",
    "    df_chunk['game_id'] = df_chunk['game_id'].ffill()\n",
    "    return df_chunk\n",
    "\n",
    "\n"
   ]
  },
  {
   "cell_type": "code",
   "execution_count": 6,
   "id": "91c90a40e9b62d9d",
   "metadata": {
    "ExecuteTime": {
     "end_time": "2025-05-29T03:53:57.923523Z",
     "start_time": "2025-05-29T03:53:57.915960Z"
    }
   },
   "outputs": [],
   "source": [
    "chunks_dir = '../data/csv/*.csv'\n"
   ]
  },
  {
   "cell_type": "code",
   "execution_count": 9,
   "id": "d180e554-bf0e-47e6-be7a-7a3571a52b0c",
   "metadata": {},
   "outputs": [],
   "source": [
    "parquet_dir = '../data/processed/'"
   ]
  },
  {
   "cell_type": "code",
   "execution_count": 7,
   "id": "8771d44f-56c8-4be2-92af-f4651b47f6b8",
   "metadata": {},
   "outputs": [],
   "source": [
    "one_million_records = pd.concat([pd.read_csv(chunk) for chunk in glob.glob(chunks_dir)]).reset_index(drop=True)"
   ]
  },
  {
   "cell_type": "code",
   "execution_count": 8,
   "id": "2f0a04be-7fe1-4a90-b610-e84e1a4aa07c",
   "metadata": {},
   "outputs": [
    {
     "name": "stderr",
     "output_type": "stream",
     "text": [
      "/tmp/ipykernel_10676/2475813830.py:10: FutureWarning: Downcasting object dtype arrays on .fillna, .ffill, .bfill is deprecated and will change in a future version. Call result.infer_objects(copy=False) instead. To opt-in to the future behavior, set `pd.set_option('future.no_silent_downcasting', True)`\n",
      "  df_chunk['game_id'] = df_chunk['game_id'].ffill()\n"
     ]
    }
   ],
   "source": [
    "one_million_records = add_game_id_col(one_million_records)"
   ]
  },
  {
   "cell_type": "code",
   "execution_count": 17,
   "id": "0bc53fbb-0584-41bb-9894-d6da68a640cd",
   "metadata": {},
   "outputs": [],
   "source": [
    "\n",
    "chunk_size = 10_000_000  # por ejemplo 10 millones filas por archivo\n",
    "num_chunks = len(one_million_records) // chunk_size + 1\n",
    "\n",
    "for i in range(num_chunks):\n",
    "    start = i * chunk_size\n",
    "    end = min((i+1)*chunk_size, len(one_million_records))\n",
    "    df_chunk = one_million_records.iloc[start:end]\n",
    "    df_chunk.to_parquet(os.path.join(parquet_dir,f'parquet_part_{i}.parquet'), index=False)\n"
   ]
  },
  {
   "cell_type": "code",
   "execution_count": 21,
   "id": "3bb191eb-bc77-4f56-a5b1-c0fd8454651c",
   "metadata": {},
   "outputs": [],
   "source": [
    "one_million_records.to_parquet(os.path.join(parquet_dir,f'One_million_games.parquet'), index=False)"
   ]
  },
  {
   "cell_type": "code",
   "execution_count": null,
   "id": "29102a6a-56bc-4f9c-86ea-10afc7d78a2b",
   "metadata": {},
   "outputs": [],
   "source": []
  }
 ],
 "metadata": {
  "kernelspec": {
   "display_name": "Python 3 (ipykernel)",
   "language": "python",
   "name": "python3"
  },
  "language_info": {
   "codemirror_mode": {
    "name": "ipython",
    "version": 3
   },
   "file_extension": ".py",
   "mimetype": "text/x-python",
   "name": "python",
   "nbconvert_exporter": "python",
   "pygments_lexer": "ipython3",
   "version": "3.10.12"
  }
 },
 "nbformat": 4,
 "nbformat_minor": 5
}
