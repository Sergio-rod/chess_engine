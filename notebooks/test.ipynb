{
 "cells": [
  {
   "cell_type": "code",
   "execution_count": 1,
   "id": "initial_id",
   "metadata": {
    "ExecuteTime": {
     "end_time": "2025-05-27T02:43:29.538303Z",
     "start_time": "2025-05-27T02:43:25.826417Z"
    }
   },
   "outputs": [
    {
     "name": "stderr",
     "output_type": "stream",
     "text": [
      "2025-05-26 20:43:26.022656: E external/local_xla/xla/stream_executor/cuda/cuda_fft.cc:477] Unable to register cuFFT factory: Attempting to register factory for plugin cuFFT when one has already been registered\n",
      "WARNING: All log messages before absl::InitializeLog() is called are written to STDERR\n",
      "E0000 00:00:1748313806.037152   10434 cuda_dnn.cc:8310] Unable to register cuDNN factory: Attempting to register factory for plugin cuDNN when one has already been registered\n",
      "E0000 00:00:1748313806.041482   10434 cuda_blas.cc:1418] Unable to register cuBLAS factory: Attempting to register factory for plugin cuBLAS when one has already been registered\n",
      "2025-05-26 20:43:26.056697: I tensorflow/core/platform/cpu_feature_guard.cc:210] This TensorFlow binary is optimized to use available CPU instructions in performance-critical operations.\n",
      "To enable the following instructions: AVX2 FMA, in other operations, rebuild TensorFlow with the appropriate compiler flags.\n"
     ]
    }
   ],
   "source": [
    "import tensorflow as tf\n",
    "import chess.pgn\n",
    "import pandas as pd\n",
    "import numpy as np\n",
    "import os\n",
    "import time\n",
    "import multiprocessing as mp\n",
    "import random\n",
    "import io\n",
    "import re\n"
   ]
  },
  {
   "cell_type": "code",
   "execution_count": 2,
   "id": "8fab3a25944112e7",
   "metadata": {
    "ExecuteTime": {
     "end_time": "2025-05-27T02:43:32.042430Z",
     "start_time": "2025-05-27T02:43:31.700193Z"
    }
   },
   "outputs": [
    {
     "name": "stdout",
     "output_type": "stream",
     "text": [
      "Now using gpu\n"
     ]
    }
   ],
   "source": [
    "gpus = tf.config.experimental.list_physical_devices('GPU')\n",
    "\n",
    "try:\n",
    "    if gpus:\n",
    "        tf.config.experimental.set_visible_devices(gpus[0], 'GPU')\n",
    "        tf.config.set_visible_devices(gpus[0], 'GPU')\n",
    "        print('Now using gpu')\n",
    "    else: print('Unable to use the gpu')\n",
    "\n",
    "\n",
    "except RuntimeError as e:\n",
    "    print(f'Something went wrong: {e}')\n"
   ]
  },
  {
   "cell_type": "code",
   "execution_count": 3,
   "id": "9af1ec54fe202522",
   "metadata": {
    "ExecuteTime": {
     "end_time": "2025-05-27T02:43:33.053844Z",
     "start_time": "2025-05-27T02:43:33.050471Z"
    }
   },
   "outputs": [],
   "source": [
    "file = '../data/raw/lichess_db_standard_rated_2016-03.pgn'"
   ]
  },
  {
   "cell_type": "code",
   "execution_count": 5,
   "id": "13deec2d0f5851e8",
   "metadata": {
    "ExecuteTime": {
     "end_time": "2025-05-27T02:21:48.566588Z",
     "start_time": "2025-05-27T02:21:48.562774Z"
    }
   },
   "outputs": [],
   "source": [
    "# def chess_pipeline(pgn_file, max_games = None):\n",
    "#     start = time.time()\n",
    "#     data = []\n",
    "#     with open(pgn_file) as pgn:\n",
    "#         fmt_game = 0\n",
    "#         while True:\n",
    "\n",
    "#             game = chess.pgn.read_game(pgn)\n",
    "#             if game is None:\n",
    "#                 print('No data found')\n",
    "#                 break\n",
    "#             game_parsed = game_pipeline(game)\n",
    "#             data.append(game_parsed)\n",
    "#             fmt_game += 1\n",
    "#             if max_games is not None and fmt_game >= max_games:\n",
    "#                 break\n",
    "#             elif fmt_game % 1000 == 0:\n",
    "#                 print(f'{fmt_game} games transformed')\n",
    "#     end = time.time()\n",
    "#     print(f'Time elapsed: {end-start:.2f} seconds')\n",
    "#     return list(filter(None,data))\n",
    "\n",
    "\n",
    "\n",
    "# def game_pipeline(game):\n",
    "#     game_list = []\n",
    "#     board = game.board()\n",
    "#     result = game.headers['Result']\n",
    "#     outcome = 1 if result == '1-0' else -1 if result == '0-1' else 0\n",
    "#     moves = list(game.mainline_moves())\n",
    "#     if moves:\n",
    "#         for move in moves:\n",
    "#             fen = board.fen()\n",
    "#             move_uci = move.uci()\n",
    "#             move_san = board.san(move)\n",
    "#             player = 'white' if board.turn == chess.WHITE else 'black'\n",
    "\n",
    "#             game_list.append(\n",
    "#                 {\n",
    "#                     'fen': fen,\n",
    "#                     'move_uci': move_uci,\n",
    "#                     'move_san': move_san,\n",
    "#                     'player': player,\n",
    "#                     'result': outcome\n",
    "#                 })\n",
    "#             board.push(move)\n",
    "#     return game_list"
   ]
  },
  {
   "cell_type": "code",
   "execution_count": null,
   "id": "9b9550c2d6b55a0b",
   "metadata": {
    "ExecuteTime": {
     "start_time": "2025-05-27T03:32:13.641703Z"
    },
    "jupyter": {
     "is_executing": true
    }
   },
   "outputs": [],
   "source": [
    "def game_pipeline_from_text(game_text):\n",
    "    game = chess.pgn.read_game(io.StringIO(game_text))\n",
    "    if game is None:\n",
    "        return None\n",
    "\n",
    "    moves = list(game.mainline_moves())\n",
    "\n",
    "    game_list = []\n",
    "    board = game.board()\n",
    "    result = game.headers['Result']\n",
    "    outcome = 1 if result == '1-0' else -1 if result == '0-1' else 0\n",
    "\n",
    "    for move in moves:\n",
    "        fen = board.fen()\n",
    "        move_uci = move.uci()\n",
    "        move_san = board.san(move)\n",
    "        player = 'white' if board.turn == chess.WHITE else 'black'\n",
    "        game_list.append({\n",
    "            'fen': fen,\n",
    "            'move_uci': move_uci,\n",
    "            'move_san': move_san,\n",
    "            'player': player,\n",
    "            'result': outcome\n",
    "        })\n",
    "        board.push(move)\n",
    "\n",
    "    return game_list if game_list else None\n",
    "\n",
    "def process_and_save_chunk(games_chunk, chunk_idx):\n",
    "    results = list(filter(None, map(lambda g: game_pipeline_from_text(g), games_chunk)))\n",
    "    flat_results = [entry for game in results for entry in game]  # Flatten list\n",
    "    df = pd.DataFrame(flat_results)\n",
    "    df.to_csv(f\"../data/csv/processed_chunk_{chunk_idx}.csv\", index=False)\n",
    "    print(f\"Saved chunk {chunk_idx} with {len(results)} valid games\")\n",
    "\n",
    "    \n",
    "def get_completed_chunk_ids(path='../data/csv/'):\n",
    "\n",
    "    completed_chunks = os.listdir(path)\n",
    "    completed_chunks_ids = [int(re.search(r'\\d+', chunk)[0]) for chunk in completed_chunks]\n",
    "    return completed_chunks_ids\n",
    "\n",
    "chunk_size = 10_000\n",
    "game_idx = 0\n",
    "games_chunk = []\n",
    "completed_chunks_ids = get_completed_chunk_ids()\n",
    "\n",
    "with open(file) as f:\n",
    "    while True:\n",
    "        game = chess.pgn.read_game(f)\n",
    "        if game is None:\n",
    "            break\n",
    "\n",
    "        current_chunk_idx = game_idx // chunk_size\n",
    "\n",
    "        if current_chunk_idx in completed_chunks_ids:\n",
    "            game_idx +=1\n",
    "            continue\n",
    "        games_chunk.append(str(game))\n",
    "        game_idx += 1\n",
    "\n",
    "        if len(games_chunk) >= chunk_size:\n",
    "            print(f'Processing chunk {current_chunk_idx} ')\n",
    "            process_and_save_chunk(games_chunk, current_chunk_idx)  # usa un número razonable o calcula primero\n",
    "            games_chunk = []\n",
    "\n",
    "\n",
    "# Procesar último chunk\n",
    "if games_chunk:\n",
    "    current_chunk_idx = game_idx // chunk_size\n",
    "    print(f\"Processing final chunk {current_chunk_idx}...\")\n",
    "    process_and_save_chunk(games_chunk, current_chunk_idx)\n"
   ]
  },
  {
   "cell_type": "code",
   "execution_count": 28,
   "id": "8bb74b63-02bb-40a6-8829-2517bed427b9",
   "metadata": {
    "scrolled": true
   },
   "outputs": [],
   "source": [
    "\n",
    "def format_dataframe(dataset):\n",
    "    all_moves = [\n",
    "        {**move, 'game_id': i}\n",
    "        for i, game in enumerate(dataset)\n",
    "        for move in game\n",
    "    ]\n",
    "    return pd.DataFrame(all_moves)\n"
   ]
  },
  {
   "cell_type": "code",
   "execution_count": 10,
   "id": "b928212d06d5885f",
   "metadata": {
    "ExecuteTime": {
     "end_time": "2025-05-27T03:14:25.283828Z",
     "start_time": "2025-05-27T03:14:25.279339Z"
    }
   },
   "outputs": [
    {
     "data": {
      "text/plain": [
       "50"
      ]
     },
     "execution_count": 10,
     "metadata": {},
     "output_type": "execute_result"
    }
   ],
   "source": [
    "502320//10000"
   ]
  },
  {
   "cell_type": "code",
   "execution_count": 39,
   "id": "fe7b4baa-4257-475d-b83d-7760be4e5bd1",
   "metadata": {},
   "outputs": [
    {
     "name": "stdout",
     "output_type": "stream",
     "text": [
      "snakeviz web server started on 127.0.0.1:8080; enter Ctrl-C to exit\n",
      "http://127.0.0.1:8080/snakeviz/%2Fmnt%2Fc%2FUsers%2Frodri%2FDocuments%2FCareer%20Learning%2FDataLab%2Fchess_ai_project%2Fnotebooks%2Fformatter.prof\n",
      "^C\n",
      "\n",
      "Bye!\n"
     ]
    }
   ],
   "source": [
    "!snakeviz -s formatter.prof\n",
    "\n",
    "\n"
   ]
  },
  {
   "cell_type": "code",
   "execution_count": null,
   "id": "a9d052ed-fc82-48b5-9242-08df13ed60f1",
   "metadata": {},
   "outputs": [],
   "source": []
  }
 ],
 "metadata": {
  "kernelspec": {
   "display_name": "Python 3 (ipykernel)",
   "language": "python",
   "name": "python3"
  },
  "language_info": {
   "codemirror_mode": {
    "name": "ipython",
    "version": 3
   },
   "file_extension": ".py",
   "mimetype": "text/x-python",
   "name": "python",
   "nbconvert_exporter": "python",
   "pygments_lexer": "ipython3",
   "version": "3.10.12"
  }
 },
 "nbformat": 4,
 "nbformat_minor": 5
}
