{
 "cells": [
  {
   "cell_type": "code",
   "execution_count": 1,
   "id": "f738d7b1-089b-4b95-8723-97fbba9e189b",
   "metadata": {},
   "outputs": [
    {
     "name": "stderr",
     "output_type": "stream",
     "text": [
      "2025-06-12 15:48:13.354843: E external/local_xla/xla/stream_executor/cuda/cuda_fft.cc:477] Unable to register cuFFT factory: Attempting to register factory for plugin cuFFT when one has already been registered\n",
      "WARNING: All log messages before absl::InitializeLog() is called are written to STDERR\n",
      "E0000 00:00:1749764893.440978     455 cuda_dnn.cc:8310] Unable to register cuDNN factory: Attempting to register factory for plugin cuDNN when one has already been registered\n",
      "E0000 00:00:1749764893.466841     455 cuda_blas.cc:1418] Unable to register cuBLAS factory: Attempting to register factory for plugin cuBLAS when one has already been registered\n",
      "2025-06-12 15:48:13.673635: I tensorflow/core/platform/cpu_feature_guard.cc:210] This TensorFlow binary is optimized to use available CPU instructions in performance-critical operations.\n",
      "To enable the following instructions: AVX2 FMA, in other operations, rebuild TensorFlow with the appropriate compiler flags.\n"
     ]
    }
   ],
   "source": [
    "import pandas as pd\n",
    "import numpy as np\n",
    "import os\n",
    "import re\n",
    "import glob\n",
    "import tensorflow as tf\n",
    "import dask.dataframe as dd\n",
    "import torch\n",
    "import chess"
   ]
  },
  {
   "cell_type": "code",
   "execution_count": 2,
   "id": "12d0072c-c552-4f19-9aea-cb5a9f058494",
   "metadata": {},
   "outputs": [],
   "source": [
    "parquets = glob.glob('../data/processed/*.parquet')"
   ]
  },
  {
   "cell_type": "code",
   "execution_count": 3,
   "id": "f747917d-f4f6-4c33-8a01-ae63df2fa061",
   "metadata": {},
   "outputs": [],
   "source": [
    "df = pd.read_parquet(parquets[0])"
   ]
  },
  {
   "cell_type": "code",
   "execution_count": 4,
   "id": "92f298a1-4c7a-433d-90eb-26e2296cfd10",
   "metadata": {},
   "outputs": [],
   "source": [
    "# one_million_games = pd.concat([pd.read_parquet(parquet) for parquet in parquets])"
   ]
  },
  {
   "cell_type": "code",
   "execution_count": null,
   "id": "779db326-8a2a-4cc1-ac83-533f529850a5",
   "metadata": {},
   "outputs": [],
   "source": []
  },
  {
   "cell_type": "code",
   "execution_count": 5,
   "id": "6c193119-e8a0-4496-9851-55a5f62cd9b8",
   "metadata": {},
   "outputs": [
    {
     "data": {
      "text/plain": [
       "str"
      ]
     },
     "execution_count": 5,
     "metadata": {},
     "output_type": "execute_result"
    }
   ],
   "source": [
    "type(chess.Move(32,42).uci())"
   ]
  },
  {
   "cell_type": "code",
   "execution_count": 7,
   "id": "be9a2093-8711-4726-8647-995475b26ea9",
   "metadata": {},
   "outputs": [],
   "source": [
    "def generate_full_uci_move_vocabulary() -> tuple[dict,dict]:\n",
    "\n",
    "    \"\"\"\n",
    "    Generates a set of all the posible movements in a chess board of 64 squares, \n",
    "    create two dictionaries which will represent the board move in uci format and their respective idx value and viceversa\n",
    "    \n",
    "    Returns\n",
    "    -------\n",
    "        uci_to_idx : dict\n",
    "                     All the possible uci moves in a chess board, uci format as keys and idx as values\n",
    "        idx_to_uci : dict \n",
    "                     All the possible uci moves in a chess board, uci format as keys and idx as values\n",
    "    \n",
    "    \"\"\"\n",
    "    move_set = set()\n",
    "    \n",
    "    for from_sq in chess.SQUARES:\n",
    "        for to_sq in chess.SQUARES:\n",
    "            if from_sq == to_sq:\n",
    "                continue\n",
    "\n",
    "            move = chess.Move(from_sq, to_sq)\n",
    "            move_set.add(move.uci())\n",
    "            \n",
    "            from_rank = chess.square_rank(from_sq) # Get the row in which the piece is coming from\n",
    "            to_rank = chess.square_rank(to_sq) # Get the row in which will be moved the piece\n",
    "            # if to_rank in [0, 7] and from_rank in [1,6]:  # posibles promociones\n",
    "            if (from_rank == 1 and to_rank == 0) or (from_rank == 6 and to_rank ==7):\n",
    "                \n",
    "                for promo in [chess.QUEEN, chess.ROOK, chess.BISHOP, chess.KNIGHT]:\n",
    "                    move_set.add(chess.Move(from_sq, to_sq, promotion=promo).uci())\n",
    "                    \n",
    "    move_list = sorted(move_set)\n",
    "    uci_to_idx = {uci: idx for idx, uci in enumerate(move_list)}\n",
    "    idx_to_uci = {idx: uci for uci, idx in uci_to_idx.items()}\n",
    "    return uci_to_idx, idx_to_uci\n",
    "\n",
    "def fen_to_tensor(fen:str) -> torch.Tensor:\n",
    "    \"\"\"\n",
    "    Converts a FEN position into a torch tensor of shape (12,8,8),\n",
    "    12 matrix of 8x8 positions, in which each type of piece eaither PNBRQK or pnbrqk,\n",
    "    will ocupate a place in the matrix, each matrix for each set of piece representation.\n",
    "\n",
    "    Parameters\n",
    "    ----------\n",
    "    fen : str\n",
    "          The notation FEN to convert into numerical values\n",
    "    Returns\n",
    "    -------\n",
    "    board_tensor : torch.Tensor\n",
    "                   The representation of FEN notation in 12 matrix of 8x8\n",
    "\n",
    "    \"\"\"\n",
    "\n",
    "    \n",
    "    board = chess.Board(fen)\n",
    "    \n",
    "    piece_to_index = {piece:idx for idx,piece in enumerate('PNBRQKpnbrqk')} # represents the piece and index of each value of the str\n",
    "\n",
    "    #TODO: add extra ccanals to indicate if there is castling available 4 canals, passant square, halfmove clock\n",
    "    \n",
    "    board_tensor = torch.zeros((12,8,8),dtype=torch.float32)\n",
    "    for square in chess.SQUARES:\n",
    "        piece = board.piece_at(square)\n",
    "        if piece:\n",
    "            idx = piece_to_index[piece.symbol()]\n",
    "            row = 7 - (square // 8)\n",
    "            col = square %8\n",
    "            board_tensor[idx,row,col] = 1.0\n",
    "    return board_tensor\n",
    "\n",
    "\n",
    "def get_legal_moves_vocab(fen:str) -> tuple[dict[str,int],dict[int,str]]:\n",
    "    \"\"\"\n",
    "    Generates a set of legal posible moves for a given position \n",
    "\n",
    "    IMPORTANT ---> All the dict generated are LOCAL and could not match with the global dict --> generate_full_uci_move_vocabulary()\n",
    "\n",
    "    Parameters\n",
    "    ----------\n",
    "        fen: FEN notation of the current position\n",
    "    Returns\n",
    "    -------\n",
    "        uci_to_idx: Dict {uci_move : idx}\n",
    "        idc_to_uci: Dict {idx : uci_move}\n",
    "    \"\"\"\n",
    "\n",
    "    board = chess.Board(fen)\n",
    "    legal_moves = list(board.legal_moves)\n",
    "    \n",
    "    legal_moves_sorted = sorted(legal_moves, key=lambda m: m.uci())\n",
    "\n",
    "    uci_to_idx = {move.uci():  idx for idx, move in enumerate(legal_moves_sorted)}\n",
    "    idx_to_uci = {idx: move.uci() for idx,move in enumerate(legal_moves_sorted)}\n",
    "    return uci_to_idx, idx_to_uci\n",
    "\n",
    " ## POSIBLEMENTE DESCARTADO, MEJORA ALTERNATIVA CON FUNCION  --> get_legal_moves_vocab enfoque \"SPARSE\"\n",
    "# def get_legal_mask(board: chess.Board, uci_to_index: dict) -> torch.Tensor:\n",
    "#     mask = torch.zeros(len(uci_to_index), dtype=torch.float32)\n",
    "#     for move in board.legal_moves:\n",
    "#         uci = move.uci()\n",
    "#         if uci in uci_to_index:\n",
    "#             mask[uci_to_index[uci]] = 1.0\n",
    "#     return mask  # Shape: (n_moves,)\n",
    "\n",
    "    \n",
    "\n",
    "\n",
    "    move_list = sorted(move_set)\n",
    "    uci_to_index = {uci: idx for idx, uci in enumerate(move_list)}\n",
    "    index_to_uci = {idx: uci for uci, idx in uci_to_index.items()}\n",
    "    return uci_to_index, index_to_uci\n",
    "# Globales cargados una vez al inicio\n",
    "\n",
    "def move_to_index(uci_move: str) -> int:\n",
    "    return uci_to_index.get(uci_move, -1)  # -1 si no está\n",
    "\n",
    "def index_to_move(idx: int) -> str:\n",
    "    return index_to_uci.get(idx, \"0000\")  # dummy por si acaso\n",
    "\n",
    "        "
   ]
  },
  {
   "cell_type": "code",
   "execution_count": null,
   "id": "dc91e526-b54d-4b09-8859-55fc4351852b",
   "metadata": {},
   "outputs": [],
   "source": [
    "class ChessSequenceDataset(torch.utils.data.Dataset):\n",
    "\n",
    "    def __init__(self,df,uci_to_idx):\n",
    "\n",
    "        \n",
    "        self.games = []\n",
    "        self.uci_to_idx = uci_to_idx\n",
    "        grouped = df.groupby('game_id')\n",
    "\n",
    "        for game_id, group in grouped:\n",
    "            group_sorted = group.sort_values(by='pyl',ascending=True)\n",
    "            sequence = []\n",
    "\n",
    "            for _,row in group_sorted.iterrows():\n",
    "                fen = row['fen']\n",
    "                uci = row['uci']\n",
    "\n",
    "                move_idx = uci_to_index.get(uci,-1)\n",
    "                if move_idx ==-1:\n",
    "                    continue\n",
    "                fen_tensor = fen_to_tensor(fen)\n",
    "                sequence.append((fen_tensor,move_idx))\n",
    "            if len(sequence)>0:\n",
    "                self.games.append(sequence)\n",
    "                \n",
    "    def __len__(self):\n",
    "        return len(self.df)\n",
    "    def __getitem__(self,idx):\n",
    "        return self.games[idx]\n",
    "        \n",
    "    "
   ]
  },
  {
   "cell_type": "code",
   "execution_count": 31,
   "id": "3a13420d-e463-4994-bd9f-6dfba1269d6d",
   "metadata": {
    "scrolled": true
   },
   "outputs": [],
   "source": [
    "df=df.drop(axis=0,index=df.loc[df['game_id']==150015].index)\n",
    "unique_ids= df['game_id'].unique()\n",
    "sample_ids = np.random.choice(unique_ids,size=10_000,replace=False,)\n",
    "df_subset = df[df['game_id'].isin(sample_ids)].reset_index(drop=True)\n"
   ]
  },
  {
   "cell_type": "code",
   "execution_count": 40,
   "id": "57407d46-d069-43ee-9173-2916a15ee24a",
   "metadata": {},
   "outputs": [],
   "source": [
    "grouped = df_subset.groupby('game_id')"
   ]
  },
  {
   "cell_type": "code",
   "execution_count": 52,
   "id": "70672143-8c5b-4be2-a4a2-5941f7a96b06",
   "metadata": {
    "scrolled": true
   },
   "outputs": [
    {
     "name": "stdout",
     "output_type": "stream",
     "text": [
      "rnbqkbnr/pppppppp/8/8/8/8/PPPPPPPP/RNBQKBNR w KQkq - 0 1\n",
      "rnbqkbnr/pppppppp/8/8/3P4/8/PPP1PPPP/RNBQKBNR b KQkq - 0 1\n",
      "rnbqkbnr/ppp1pppp/3p4/8/3P4/8/PPP1PPPP/RNBQKBNR w KQkq - 0 2\n",
      "rnbqkbnr/ppp1pppp/3p4/8/3P4/4P3/PPP2PPP/RNBQKBNR b KQkq - 0 2\n",
      "rnbqkb1r/ppp1pppp/3p1n2/8/3P4/4P3/PPP2PPP/RNBQKBNR w KQkq - 1 3\n",
      "rnbqkb1r/ppp1pppp/3p1n2/8/3P4/2P1P3/PP3PPP/RNBQKBNR b KQkq - 0 3\n",
      "rnbqkb1r/1pp1pppp/p2p1n2/8/3P4/2P1P3/PP3PPP/RNBQKBNR w KQkq - 0 4\n",
      "rnbqkb1r/1pp1pppp/p2p1n2/8/Q2P4/2P1P3/PP3PPP/RNB1KBNR b KQkq - 1 4\n",
      "rn1qkb1r/1ppbpppp/p2p1n2/8/Q2P4/2P1P3/PP3PPP/RNB1KBNR w KQkq - 2 5\n",
      "rn1qkb1r/1ppbpppp/p2p1n2/8/3P4/1QP1P3/PP3PPP/RNB1KBNR b KQkq - 3 5\n",
      "rn1qkb1r/2pbpppp/pp1p1n2/8/3P4/1QP1P3/PP3PPP/RNB1KBNR w KQkq - 0 6\n",
      "rn1qkb1r/2pbpppp/pp1p1n2/8/3P4/1QP1P1P1/PP3P1P/RNB1KBNR b KQkq - 0 6\n",
      "r2qkb1r/2pbpppp/ppnp1n2/8/3P4/1QP1P1P1/PP3P1P/RNB1KBNR w KQkq - 1 7\n",
      "r2qkb1r/2pbpppp/ppnp1n2/8/3P4/1QP1P1P1/PP3PBP/RNB1K1NR b KQkq - 2 7\n",
      "r2qkb1r/2pbppp1/ppnp1n1p/8/3P4/1QP1P1P1/PP3PBP/RNB1K1NR w KQkq - 0 8\n",
      "r2qkb1r/2pbppp1/ppnp1n1p/8/2PP4/1Q2P1P1/PP3PBP/RNB1K1NR b KQkq - 0 8\n",
      "r2qkb1r/2pb1pp1/ppnp1n1p/4p3/2PP4/1Q2P1P1/PP3PBP/RNB1K1NR w KQkq - 0 9\n",
      "r2qkb1r/2pb1pp1/ppnp1n1p/2P1p3/3P4/1Q2P1P1/PP3PBP/RNB1K1NR b KQkq - 0 9\n",
      "r2qkb1r/2pb1pp1/ppn2n1p/2p1p3/3P4/1Q2P1P1/PP3PBP/RNB1K1NR w KQkq - 0 10\n",
      "r2qkb1r/2pb1pp1/ppn2n1p/2P1p3/8/1Q2P1P1/PP3PBP/RNB1K1NR b KQkq - 0 10\n",
      "r2qkb1r/2pb1pp1/p1n2n1p/2p1p3/8/1Q2P1P1/PP3PBP/RNB1K1NR w KQkq - 0 11\n",
      "r2qkb1r/2pb1pp1/p1n2n1p/2p1p3/8/2Q1P1P1/PP3PBP/RNB1K1NR b KQkq - 1 11\n",
      "r1q1kb1r/2pb1pp1/p1n2n1p/2p1p3/8/2Q1P1P1/PP3PBP/RNB1K1NR w KQkq - 2 12\n",
      "r1q1kb1r/2pb1pp1/p1n2n1p/2p1p3/8/1Q2P1P1/PP3PBP/RNB1K1NR b KQkq - 3 12\n",
      "1rq1kb1r/2pb1pp1/p1n2n1p/2p1p3/8/1Q2P1P1/PP3PBP/RNB1K1NR w KQk - 4 13\n",
      "1rq1kb1r/2pb1pp1/p1n2n1p/2p1p3/2Q5/4P1P1/PP3PBP/RNB1K1NR b KQk - 5 13\n",
      "1rq1kb1r/2pb1pp1/p4n1p/n1p1p3/2Q5/4P1P1/PP3PBP/RNB1K1NR w KQk - 6 14\n",
      "1rq1kb1r/2pb1pp1/p4n1p/n1p1p3/8/4P1P1/PP3PBP/RNB1KQNR b KQk - 7 14\n",
      "1rq1kb1r/2pb1pp1/p4n1p/n3p3/2p5/4P1P1/PP3PBP/RNB1KQNR w KQk - 0 15\n",
      "1rq1kb1r/2pb1pp1/p4n1p/n3p3/2p5/4P1P1/PP1N1PBP/R1B1KQNR b KQk - 1 15\n"
     ]
    }
   ],
   "source": [
    "for i in range(30):\n",
    "    print(df_subset.iloc[i,0])"
   ]
  },
  {
   "cell_type": "code",
   "execution_count": null,
   "id": "8897178e-fe3b-42f0-871f-680b5bbb671e",
   "metadata": {},
   "outputs": [],
   "source": []
  }
 ],
 "metadata": {
  "kernelspec": {
   "display_name": "chess_ai_env",
   "language": "python",
   "name": "chess_ai_env"
  },
  "language_info": {
   "codemirror_mode": {
    "name": "ipython",
    "version": 3
   },
   "file_extension": ".py",
   "mimetype": "text/x-python",
   "name": "python",
   "nbconvert_exporter": "python",
   "pygments_lexer": "ipython3",
   "version": "3.10.12"
  }
 },
 "nbformat": 4,
 "nbformat_minor": 5
}
