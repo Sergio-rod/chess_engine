{
 "cells": [
  {
   "cell_type": "code",
   "execution_count": 1,
   "id": "initial_id",
   "metadata": {
    "ExecuteTime": {
     "end_time": "2025-04-20T03:52:41.296540Z",
     "start_time": "2025-04-20T03:52:41.293404Z"
    }
   },
   "outputs": [
    {
     "name": "stderr",
     "output_type": "stream",
     "text": [
      "2025-04-19 21:57:26.895569: E external/local_xla/xla/stream_executor/cuda/cuda_fft.cc:477] Unable to register cuFFT factory: Attempting to register factory for plugin cuFFT when one has already been registered\n",
      "WARNING: All log messages before absl::InitializeLog() is called are written to STDERR\n",
      "E0000 00:00:1745121446.909497   34976 cuda_dnn.cc:8310] Unable to register cuDNN factory: Attempting to register factory for plugin cuDNN when one has already been registered\n",
      "E0000 00:00:1745121446.913551   34976 cuda_blas.cc:1418] Unable to register cuBLAS factory: Attempting to register factory for plugin cuBLAS when one has already been registered\n",
      "2025-04-19 21:57:26.935303: I tensorflow/core/platform/cpu_feature_guard.cc:210] This TensorFlow binary is optimized to use available CPU instructions in performance-critical operations.\n",
      "To enable the following instructions: AVX2 FMA, in other operations, rebuild TensorFlow with the appropriate compiler flags.\n"
     ]
    }
   ],
   "source": [
    "import tensorflow as tf\n",
    "import chess.pgn\n",
    "import pandas as pd\n",
    "import numpy as np\n",
    "import os\n",
    "import time\n",
    "import multiprocessing as mp\n",
    "import random\n",
    "import io\n"
   ]
  },
  {
   "cell_type": "code",
   "execution_count": 2,
   "id": "8fab3a25944112e7",
   "metadata": {
    "ExecuteTime": {
     "end_time": "2025-04-20T03:52:41.469481Z",
     "start_time": "2025-04-20T03:52:41.465240Z"
    }
   },
   "outputs": [
    {
     "name": "stdout",
     "output_type": "stream",
     "text": [
      "Now using gpu\n"
     ]
    }
   ],
   "source": [
    "gpus = tf.config.experimental.list_physical_devices('GPU')\n",
    "\n",
    "try:\n",
    "    if gpus:\n",
    "        tf.config.experimental.set_visible_devices(gpus[0], 'GPU')\n",
    "        tf.config.set_visible_devices(gpus[0], 'GPU')\n",
    "        print('Now using gpu')\n",
    "    else: print('Unable to use the gpu')\n",
    "\n",
    "\n",
    "except RuntimeError as e:\n",
    "    print(f'Something went wrong: {e}')\n"
   ]
  },
  {
   "cell_type": "code",
   "execution_count": 3,
   "id": "9af1ec54fe202522",
   "metadata": {
    "ExecuteTime": {
     "end_time": "2025-04-20T03:52:41.655016Z",
     "start_time": "2025-04-20T03:52:41.652019Z"
    }
   },
   "outputs": [],
   "source": [
    "file = '../data/raw/lichess_db_standard_rated_2016-03.pgn'"
   ]
  },
  {
   "cell_type": "code",
   "execution_count": 24,
   "id": "13deec2d0f5851e8",
   "metadata": {
    "ExecuteTime": {
     "end_time": "2025-04-20T03:52:41.828262Z",
     "start_time": "2025-04-20T03:52:41.822287Z"
    }
   },
   "outputs": [],
   "source": [
    "# def chess_pipeline(pgn_file, max_games = None):\n",
    "#     start = time.time()\n",
    "#     data = []\n",
    "#     with open(pgn_file) as pgn:\n",
    "#         fmt_game = 0\n",
    "#         while True:\n",
    "\n",
    "#             game = chess.pgn.read_game(pgn)\n",
    "#             if game is None:\n",
    "#                 print('No data found')\n",
    "#                 break\n",
    "#             game_parsed = game_pipeline(game)\n",
    "#             data.append(game_parsed)\n",
    "#             fmt_game += 1\n",
    "#             if max_games is not None and fmt_game >= max_games:\n",
    "#                 break\n",
    "#             elif fmt_game % 1000 == 0:\n",
    "#                 print(f'{fmt_game} games transformed')\n",
    "#     end = time.time()\n",
    "#     print(f'Time elapsed: {end-start:.2f} seconds')\n",
    "#     return list(filter(None,data))\n",
    "\n",
    "\n",
    "\n",
    "# def game_pipeline(game):\n",
    "#     game_list = []\n",
    "#     board = game.board()\n",
    "#     result = game.headers['Result']\n",
    "#     outcome = 1 if result == '1-0' else -1 if result == '0-1' else 0\n",
    "#     moves = list(game.mainline_moves())\n",
    "#     if moves:\n",
    "#         for move in moves:\n",
    "#             fen = board.fen()\n",
    "#             move_uci = move.uci()\n",
    "#             move_san = board.san(move)\n",
    "#             player = 'white' if board.turn == chess.WHITE else 'black'\n",
    "\n",
    "#             game_list.append(\n",
    "#                 {\n",
    "#                     'fen': fen,\n",
    "#                     'move_uci': move_uci,\n",
    "#                     'move_san': move_san,\n",
    "#                     'player': player,\n",
    "#                     'result': outcome\n",
    "#                 })\n",
    "#             board.push(move)\n",
    "#     return game_list"
   ]
  },
  {
   "cell_type": "code",
   "execution_count": 25,
   "id": "df4aa923e41d7e29",
   "metadata": {
    "ExecuteTime": {
     "end_time": "2025-04-20T03:54:43.184662Z",
     "start_time": "2025-04-20T03:54:43.176384Z"
    }
   },
   "outputs": [],
   "source": [
    "\n",
    "\n",
    "# === Función que procesa un solo juego, filtrado por jugadas ===\n",
    "def game_pipeline_from_text(game_text, max_moves):\n",
    "    game = chess.pgn.read_game(io.StringIO(game_text))\n",
    "    if game is None:\n",
    "        return None\n",
    "\n",
    "    moves = list(game.mainline_moves())\n",
    "    if len(moves) > max_moves:\n",
    "        return None  # juego muy largo\n",
    "\n",
    "    game_list = []\n",
    "    board = game.board()\n",
    "    result = game.headers['Result']\n",
    "    outcome = 1 if result == '1-0' else -1 if result == '0-1' else 0\n",
    "\n",
    "    for move in moves:\n",
    "        fen = board.fen()\n",
    "        move_uci = move.uci()\n",
    "        move_san = board.san(move)\n",
    "        player = 'white' if board.turn == chess.WHITE else 'black'\n",
    "        game_list.append({\n",
    "            'fen': fen,\n",
    "            'move_uci': move_uci,\n",
    "            'move_san': move_san,\n",
    "            'player': player,\n",
    "            'result': outcome\n",
    "        })\n",
    "        board.push(move)\n",
    "\n",
    "    return game_list if game_list else None\n",
    "\n",
    "# 3. Procesar en paralelo con filtro por cantidad de jugadas\n",
    "def _wrapper(game_text_and_max_moves):\n",
    "    game_text,max_moves = game_text_and_max_moves\n",
    "    return game_pipeline_from_text(game_text, max_moves)\n",
    "\n",
    "# === Función principal robusta ===\n",
    "def chess_pipeline_parallel(pgn_file, max_games=None, sample_size=1000, percentile=99, processes=None):\n",
    "    start = time.time()\n",
    "\n",
    "    game_texts = []\n",
    "    with open(pgn_file) as pgn:\n",
    "        while True:\n",
    "            game = chess.pgn.read_game(pgn)\n",
    "            if game is None:\n",
    "                break\n",
    "            game_texts.append(str(game))\n",
    "            if max_games is not None and len(game_texts) >= max_games:\n",
    "                break\n",
    "\n",
    "    print(f'{len(game_texts)} games loaded.')\n",
    "\n",
    "    # Obtener una muestra y calcular el número máximo de jugadas permitido\n",
    "    sample_games = game_texts[:sample_size]\n",
    "    sample_lengths = [len(list(chess.pgn.read_game(io.StringIO(g)).mainline_moves())) for g in sample_games]\n",
    "    max_moves = int(np.percentile(sample_lengths, percentile))\n",
    "    print(f'Maximum moves allowed per game (based on {percentile} percentile): {max_moves}')\n",
    "\n",
    "    # Prepara los argumentos como tuplas para el wrapper\n",
    "    args = [(g, max_moves) for g in game_texts]\n",
    "\n",
    "    print(\"Processing...\")\n",
    "    with mp.Pool(processes=processes or mp.cpu_count()) as pool:\n",
    "        results = list(filter(None, pool.imap_unordered(_wrapper, args)))\n",
    "\n",
    "    print(f'All games processed. Total valid games: {len(results)}')\n",
    "    end = time.time()\n",
    "    print(f'Time elapsed: {end-start:.2f} seconds')\n",
    "\n",
    "    return results\n"
   ]
  },
  {
   "cell_type": "code",
   "execution_count": 27,
   "id": "c2e01b8f5bde4ff3",
   "metadata": {
    "ExecuteTime": {
     "start_time": "2025-04-20T03:55:02.844830Z"
    },
    "jupyter": {
     "is_executing": true
    }
   },
   "outputs": [],
   "source": [
    "\n",
    "def profile_func():\n",
    "    dataset = chess_pipeline_parallel(file,10000,1000,80)"
   ]
  },
  {
   "cell_type": "code",
   "execution_count": 28,
   "id": "8bb74b63-02bb-40a6-8829-2517bed427b9",
   "metadata": {
    "scrolled": true
   },
   "outputs": [],
   "source": [
    "\n",
    "def format_dataframe(dataset):\n",
    "    all_moves = [\n",
    "        {**move, 'game_id': i}\n",
    "        for i, game in enumerate(dataset)\n",
    "        for move in game\n",
    "    ]\n",
    "    return pd.DataFrame(all_moves)\n"
   ]
  },
  {
   "cell_type": "code",
   "execution_count": null,
   "id": "1708fe2f-20af-4923-9e31-8b274a9c69e6",
   "metadata": {},
   "outputs": [],
   "source": [
    "import cProfile\n",
    "import snakeviz\n",
    "\n",
    "profile = cProfile.Profile()\n",
    "profile.enable()\n",
    "profile_func()\n",
    "profile.disable()\n",
    "\n",
    "profile.dump_stats('formatter.prof')\n"
   ]
  },
  {
   "cell_type": "code",
   "execution_count": 39,
   "id": "fe7b4baa-4257-475d-b83d-7760be4e5bd1",
   "metadata": {},
   "outputs": [
    {
     "name": "stdout",
     "output_type": "stream",
     "text": [
      "snakeviz web server started on 127.0.0.1:8080; enter Ctrl-C to exit\n",
      "http://127.0.0.1:8080/snakeviz/%2Fmnt%2Fc%2FUsers%2Frodri%2FDocuments%2FCareer%20Learning%2FDataLab%2Fchess_ai_project%2Fnotebooks%2Fformatter.prof\n",
      "^C\n",
      "\n",
      "Bye!\n"
     ]
    }
   ],
   "source": [
    "!snakeviz -s formatter.prof\n",
    "\n",
    "\n"
   ]
  },
  {
   "cell_type": "code",
   "execution_count": null,
   "id": "a9d052ed-fc82-48b5-9242-08df13ed60f1",
   "metadata": {},
   "outputs": [],
   "source": []
  }
 ],
 "metadata": {
  "kernelspec": {
   "display_name": "chess_ai_env",
   "language": "python",
   "name": "chess_ai_env"
  },
  "language_info": {
   "codemirror_mode": {
    "name": "ipython",
    "version": 3
   },
   "file_extension": ".py",
   "mimetype": "text/x-python",
   "name": "python",
   "nbconvert_exporter": "python",
   "pygments_lexer": "ipython3",
   "version": "3.10.12"
  }
 },
 "nbformat": 4,
 "nbformat_minor": 5
}
