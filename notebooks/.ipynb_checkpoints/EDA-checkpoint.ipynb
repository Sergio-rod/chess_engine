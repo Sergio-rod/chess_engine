{
 "cells": [
  {
   "cell_type": "code",
   "execution_count": 20,
   "id": "f738d7b1-089b-4b95-8723-97fbba9e189b",
   "metadata": {},
   "outputs": [],
   "source": [
    "import pandas as pd\n",
    "import numpy as np\n",
    "import os\n",
    "import re\n",
    "import glob\n",
    "import tensorflow as tf\n",
    "import dask.dataframe as dd\n",
    "import torch\n",
    "import chess"
   ]
  },
  {
   "cell_type": "code",
   "execution_count": 21,
   "id": "12d0072c-c552-4f19-9aea-cb5a9f058494",
   "metadata": {},
   "outputs": [],
   "source": [
    "parquets = glob.glob('../data/processed/*.parquet')"
   ]
  },
  {
   "cell_type": "code",
   "execution_count": 45,
   "id": "f747917d-f4f6-4c33-8a01-ae63df2fa061",
   "metadata": {},
   "outputs": [],
   "source": [
    "df = pd.read_parquet(parquets[0])"
   ]
  },
  {
   "cell_type": "code",
   "execution_count": 23,
   "id": "92f298a1-4c7a-433d-90eb-26e2296cfd10",
   "metadata": {},
   "outputs": [],
   "source": [
    "# one_million_games = pd.concat([pd.read_parquet(parquet) for parquet in parquets])"
   ]
  },
  {
   "cell_type": "code",
   "execution_count": 55,
   "id": "be9a2093-8711-4726-8647-995475b26ea9",
   "metadata": {},
   "outputs": [],
   "source": [
    "def fen_to_tensor(fen:str) -> torch.Tensor:\n",
    "    \"\"\"\n",
    "    Converts a FEN position into a torch tensor of shape (12,8,8),\n",
    "    12 matrix of 8x8 positions, in which each type of piece eaither PNBRQK or pnbrqk,\n",
    "    will ocupate a place in the matrix, each matrix for each set of piece representation.\n",
    "\n",
    "    Parameters\n",
    "    ----------\n",
    "    fen : str\n",
    "          The notation FEN to convert into numerical values\n",
    "    Returns\n",
    "    -------\n",
    "    board_tensor : torch.Tensor\n",
    "                   The representation of FEN notation in 12 matrix of 8x8\n",
    "\n",
    "    \"\"\"\n",
    "\n",
    "    \n",
    "    board = chess.Board(fen)\n",
    "    \n",
    "    piece_to_index = {piece:idx for idx,piece in enumerate('PNBRQKpnbrqk')} # represents the piece and index of each value of the str\n",
    "    board_tensor = torch.zeros((12,8,8),dtype=torch.float32)\n",
    "    for square in chess.SQUARES:\n",
    "        piece = board.piece_at(square)\n",
    "        if piece:\n",
    "            idx = piece_to_index[piece.symbol()]\n",
    "            row = 7 - (square // 8)\n",
    "            col = square %8\n",
    "            board_tensor[idx,row,col] = 1.0\n",
    "    return board_tensor\n",
    "        "
   ]
  },
  {
   "cell_type": "code",
   "execution_count": 56,
   "id": "38db82f4-f24d-4942-9a52-9966bd6ffd43",
   "metadata": {},
   "outputs": [
    {
     "data": {
      "text/plain": [
       "torch.Tensor"
      ]
     },
     "execution_count": 56,
     "metadata": {},
     "output_type": "execute_result"
    }
   ],
   "source": [
    "type(torch.zeros((12,8,8),dtype=torch.float32))"
   ]
  },
  {
   "cell_type": "code",
   "execution_count": null,
   "id": "912b9e99-457d-4eed-a440-998f59dea11e",
   "metadata": {},
   "outputs": [],
   "source": []
  }
 ],
 "metadata": {
  "kernelspec": {
   "display_name": "chess_ai_env",
   "language": "python",
   "name": "chess_ai_env"
  },
  "language_info": {
   "codemirror_mode": {
    "name": "ipython",
    "version": 3
   },
   "file_extension": ".py",
   "mimetype": "text/x-python",
   "name": "python",
   "nbconvert_exporter": "python",
   "pygments_lexer": "ipython3",
   "version": "3.10.12"
  }
 },
 "nbformat": 4,
 "nbformat_minor": 5
}
