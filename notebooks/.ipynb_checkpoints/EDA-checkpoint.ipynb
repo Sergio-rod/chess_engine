{
 "cells": [
  {
   "cell_type": "code",
   "execution_count": 1,
   "id": "f738d7b1-089b-4b95-8723-97fbba9e189b",
   "metadata": {},
   "outputs": [
    {
     "name": "stderr",
     "output_type": "stream",
     "text": [
      "2025-05-30 13:16:20.326044: E external/local_xla/xla/stream_executor/cuda/cuda_fft.cc:477] Unable to register cuFFT factory: Attempting to register factory for plugin cuFFT when one has already been registered\n",
      "WARNING: All log messages before absl::InitializeLog() is called are written to STDERR\n",
      "E0000 00:00:1748632580.416250     452 cuda_dnn.cc:8310] Unable to register cuDNN factory: Attempting to register factory for plugin cuDNN when one has already been registered\n",
      "E0000 00:00:1748632580.443109     452 cuda_blas.cc:1418] Unable to register cuBLAS factory: Attempting to register factory for plugin cuBLAS when one has already been registered\n",
      "2025-05-30 13:16:20.655129: I tensorflow/core/platform/cpu_feature_guard.cc:210] This TensorFlow binary is optimized to use available CPU instructions in performance-critical operations.\n",
      "To enable the following instructions: AVX2 FMA, in other operations, rebuild TensorFlow with the appropriate compiler flags.\n"
     ]
    }
   ],
   "source": [
    "import pandas as pd\n",
    "import numpy as np\n",
    "import os\n",
    "import re\n",
    "import glob\n",
    "import tensorflow as tf\n",
    "import dask.dataframe as dd\n",
    "import torch\n",
    "import chess"
   ]
  },
  {
   "cell_type": "code",
   "execution_count": 2,
   "id": "12d0072c-c552-4f19-9aea-cb5a9f058494",
   "metadata": {},
   "outputs": [],
   "source": [
    "parquets = glob.glob('../data/processed/*.parquet')"
   ]
  },
  {
   "cell_type": "code",
   "execution_count": 3,
   "id": "f747917d-f4f6-4c33-8a01-ae63df2fa061",
   "metadata": {},
   "outputs": [],
   "source": [
    "df = pd.read_parquet(parquets[0])"
   ]
  },
  {
   "cell_type": "code",
   "execution_count": 4,
   "id": "92f298a1-4c7a-433d-90eb-26e2296cfd10",
   "metadata": {},
   "outputs": [],
   "source": [
    "# one_million_games = pd.concat([pd.read_parquet(parquet) for parquet in parquets])"
   ]
  },
  {
   "cell_type": "code",
   "execution_count": 14,
   "id": "be9a2093-8711-4726-8647-995475b26ea9",
   "metadata": {},
   "outputs": [],
   "source": [
    "def fen_to_tensor(fen:str) -> torch.Tensor:\n",
    "    \"\"\"\n",
    "    Converts a FEN position into a torch tensor of shape (12,8,8),\n",
    "    12 matrix of 8x8 positions, in which each type of piece eaither PNBRQK or pnbrqk,\n",
    "    will ocupate a place in the matrix, each matrix for each set of piece representation.\n",
    "\n",
    "    Parameters\n",
    "    ----------\n",
    "    fen : str\n",
    "          The notation FEN to convert into numerical values\n",
    "    Returns\n",
    "    -------\n",
    "    board_tensor : torch.Tensor\n",
    "                   The representation of FEN notation in 12 matrix of 8x8\n",
    "\n",
    "    \"\"\"\n",
    "\n",
    "    \n",
    "    board = chess.Board(fen)\n",
    "    \n",
    "    piece_to_index = {piece:idx for idx,piece in enumerate('PNBRQKpnbrqk')} # represents the piece and index of each value of the str\n",
    "\n",
    "    #TODO: add extra ccanals to indicate if there is castling available 4 canals, passant square, halfmove clock\n",
    "    \n",
    "    board_tensor = torch.zeros((12,8,8),dtype=torch.float32)\n",
    "    for square in chess.SQUARES:\n",
    "        piece = board.piece_at(square)\n",
    "        if piece:\n",
    "            idx = piece_to_index[piece.symbol()]\n",
    "            row = 7 - (square // 8)\n",
    "            col = square %8\n",
    "            board_tensor[idx,row,col] = 1.0\n",
    "    return board_tensor\n",
    "        "
   ]
  },
  {
   "cell_type": "code",
   "execution_count": 26,
   "id": "912b9e99-457d-4eed-a440-998f59dea11e",
   "metadata": {},
   "outputs": [],
   "source": [
    "uci,index = generate_uci_move_vocabulary()"
   ]
  },
  {
   "cell_type": "code",
   "execution_count": 72,
   "id": "74ae5ee2-bc37-4bca-b32b-599d394bc769",
   "metadata": {},
   "outputs": [],
   "source": [
    "import chess\n",
    "\n",
    "def get_legal_moves_vocab(fen:str) -> tuple[dict[str,int],dict[int,str]]:\n",
    "    \"\"\"\n",
    "    Generates a set of legal posible moves for a given position\n",
    "\n",
    "    Parameters\n",
    "    ----------\n",
    "        fen: FEN notation of the current position\n",
    "    Returns\n",
    "    -------\n",
    "        uci_to_idx: Dict {uci_move : idx}\n",
    "        idc_to_uci: Dict {idx : uci_move}\n",
    "    \"\"\"\n",
    "\n",
    "    board = chess.Board(fen)\n",
    "    legal_moves = list(board.legal_moves)\n",
    "    \n",
    "    legal_moves_sorted = sorted(legal_moves, key=lambda m: m.uci())\n",
    "\n",
    "    uci_to_idx = {move.uci():  idx for idx, move in enumerate(legal_moves_sorted)}\n",
    "    idx_to_uci = {idx: move.uci() for idx,move in enumerate(legal_moves_sorted)}\n",
    "    return uci_to_idx, idx_to_uci\n"
   ]
  },
  {
   "cell_type": "code",
   "execution_count": 74,
   "id": "ea8d15fd-7c31-4cca-8156-9d63e2ed7e26",
   "metadata": {},
   "outputs": [
    {
     "data": {
      "text/plain": [
       "({'a1b1': 0,\n",
       "  'a2a3': 1,\n",
       "  'a2a4': 2,\n",
       "  'b2b3': 3,\n",
       "  'b2b4': 4,\n",
       "  'c1d2': 5,\n",
       "  'c1e3': 6,\n",
       "  'c2c3': 7,\n",
       "  'c2c4': 8,\n",
       "  'e2c3': 9,\n",
       "  'e2d4': 10,\n",
       "  'e2g1': 11,\n",
       "  'f1d1': 12,\n",
       "  'f1e1': 13,\n",
       "  'f1f2': 14,\n",
       "  'f1f3': 15,\n",
       "  'f1g1': 16,\n",
       "  'f4f5': 17,\n",
       "  'g2c6': 18,\n",
       "  'g2d5': 19,\n",
       "  'g2e4': 20,\n",
       "  'g2f2': 21,\n",
       "  'g2f3': 22,\n",
       "  'g2g1': 23,\n",
       "  'g2h2': 24,\n",
       "  'g3g4': 25,\n",
       "  'h1h2': 26,\n",
       "  'h3h4': 27},\n",
       " {0: 'a1b1',\n",
       "  1: 'a2a3',\n",
       "  2: 'a2a4',\n",
       "  3: 'b2b3',\n",
       "  4: 'b2b4',\n",
       "  5: 'c1d2',\n",
       "  6: 'c1e3',\n",
       "  7: 'c2c3',\n",
       "  8: 'c2c4',\n",
       "  9: 'e2c3',\n",
       "  10: 'e2d4',\n",
       "  11: 'e2g1',\n",
       "  12: 'f1d1',\n",
       "  13: 'f1e1',\n",
       "  14: 'f1f2',\n",
       "  15: 'f1f3',\n",
       "  16: 'f1g1',\n",
       "  17: 'f4f5',\n",
       "  18: 'g2c6',\n",
       "  19: 'g2d5',\n",
       "  20: 'g2e4',\n",
       "  21: 'g2f2',\n",
       "  22: 'g2f3',\n",
       "  23: 'g2g1',\n",
       "  24: 'g2h2',\n",
       "  25: 'g3g4',\n",
       "  26: 'h1h2',\n",
       "  27: 'h3h4'})"
      ]
     },
     "execution_count": 74,
     "metadata": {},
     "output_type": "execute_result"
    }
   ],
   "source": [
    "def get_legal_mask(board: chess.Board, uci_to_index: dict) -> torch.Tensor:\n",
    "    mask = torch.zeros(len(uci_to_index), dtype=torch.float32)\n",
    "    for move in board.legal_moves:\n",
    "        uci = move.uci()\n",
    "        if uci in uci_to_index:\n",
    "            mask[uci_to_index[uci]] = 1.0\n",
    "    return mask  # Shape: (n_moves,)\n"
   ]
  },
  {
   "cell_type": "code",
   "execution_count": null,
   "id": "98c87669-5deb-4fc4-af46-0085a73408f4",
   "metadata": {},
   "outputs": [],
   "source": [
    "# Globales cargados una vez al inicio\n",
    "uci_to_index, index_to_uci = generate_full_uci_move_vocabulary()\n",
    "\n",
    "def move_to_index(uci_move: str) -> int:\n",
    "    return uci_to_index.get(uci_move, -1)  # -1 si no está\n",
    "\n",
    "def index_to_move(idx: int) -> str:\n",
    "    return index_to_uci.get(idx, \"0000\")  # dummy por si acaso\n"
   ]
  },
  {
   "cell_type": "code",
   "execution_count": null,
   "id": "0782141c-5743-4d2f-a2b0-61cfbf2eb1ad",
   "metadata": {},
   "outputs": [],
   "source": [
    "def generate_full_uci_move_vocabulary():\n",
    "    move_set = set()\n",
    "    \n",
    "    for from_sq in chess.SQUARES:\n",
    "        for to_sq in chess.SQUARES:\n",
    "            if from_sq == to_sq:\n",
    "                continue\n",
    "\n",
    "            move = chess.Move(from_sq, to_sq)\n",
    "            move_set.add(move.uci())\n",
    "\n",
    "            to_rank = chess.square_rank(to_sq)\n",
    "            if to_rank in [0, 7]:  # posibles promociones\n",
    "                for promo in [chess.QUEEN, chess.ROOK, chess.BISHOP, chess.KNIGHT]:\n",
    "                    move_set.add(chess.Move(from_sq, to_sq, promotion=promo).uci())\n",
    "\n",
    "    move_list = sorted(move_set)\n",
    "    uci_to_index = {uci: idx for idx, uci in enumerate(move_list)}\n",
    "    index_to_uci = {idx: uci for uci, idx in uci_to_index.items()}\n",
    "    return uci_to_index, index_to_uci\n"
   ]
  },
  {
   "cell_type": "code",
   "execution_count": null,
   "id": "370840c3-f622-4f1c-904c-1a8818bef58d",
   "metadata": {},
   "outputs": [],
   "source": [
    "uci_to_index, index_to_uci = generate_uci_move_vocabulary()\n",
    "\n",
    "def move_to_index(uci):\n",
    "    return uci_to_index.get(uci, -1)\n",
    "\n",
    "def index_to_move(idx):\n",
    "    return index_to_uci.get(idx, '0000')  # default dummy"
   ]
  }
 ],
 "metadata": {
  "kernelspec": {
   "display_name": "chess_ai_env",
   "language": "python",
   "name": "chess_ai_env"
  },
  "language_info": {
   "codemirror_mode": {
    "name": "ipython",
    "version": 3
   },
   "file_extension": ".py",
   "mimetype": "text/x-python",
   "name": "python",
   "nbconvert_exporter": "python",
   "pygments_lexer": "ipython3",
   "version": "3.10.12"
  }
 },
 "nbformat": 4,
 "nbformat_minor": 5
}
