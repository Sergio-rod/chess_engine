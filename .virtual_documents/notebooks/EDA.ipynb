import pandas as pd
import numpy as np
import os
import re
import glob
import chess
from pathlib import Path
from tqdm import tqdm
import gc
import plotly.graph_objects as go
from collections import OrderedDict
import zlib
import hashlib
from model_functions import generate_full_uci_move_vocabulary
gc.collect()


def save_dataset_chunks(df, uci_to_idx,chunk_size=50_000, output_prefix='chunk_sequence'):
    game_ids = df['game_id'].unique()
    total_games = len(game_ids)
    num_chunks = (total_games + chunk_size -1) // chunk_size

    for i in range(num_chunks):
        save_path = Path.cwd().parent /'data'/'torch_datasets'/f'{output_prefix}_{i:04d}.pt'
        save_path.parent.mkdir(parents=True,exist_ok=True)
        print(f'Veryfing if chunk number: {i:04d} exists...')

        if os.path.exists(save_path):
            print(f'Chunk {i:04d} exist, skipping...')
            continue
        else:
            start = i*chunk_size
            end = min(start + chunk_size,total_games)
            chunks_ids = game_ids[start:end]
            chunk_df = df.loc[df['game_id'].isin(chunks_ids)]
    
            print(f'Processing chunk number {i}/{num_chunks} with {len(chunks_ids)} games...')
            dataset = ChessSequenceDataset(chunk_df,uci_to_idx)
    
            torch.save(dataset.games,save_path)
            print(f'[💾] Saved: {save_path} with {len(dataset)} valid games')
    

        

def sort_dir_list(dir_list, limit_records):
    sorted_list = sorted( dir_list,key=lambda x: int(re.search(r'_(\d+)\.parquet$', x).group(1)))
    if len(sorted_list) < limit_records:
        print(f'Not enough records to reach the limit: {len(sorted_list)} provided, {limit_records} requested')
    
    return sorted_list[:limit_records]


torch_datasets = glob.glob(str(Path.cwd().parent / 'data'/'torch_datasets'/'*.pt'))

parquet_datasets = glob.glob(str(Path.cwd().parent / 'data' / 'enriched_parquets' /'*.parquet'))
parquet_datasets = sort_dir_list(parquet_datasets, 10)



parquet_datasets







df_sample =  pd.concat([pd.read_parquet(parquet) for parquet in parquet_datasets],ignore_index=True).reset_index(drop=True)







len(df_sample['game_id'].unique())


Num_valid_games = len(df_sample['game_id'].unique()) 
print(f'Existen {Num_valid_games} juegos validos en la muestra')

Num_invalid_games = len(set(np.arange(0,1*10**5)) - set(df_sample['game_id'].unique()))
print(f'Existen {Num_invalid_games} juegos invalidos en la muestra')

del Num_valid_games
del Num_invalid_games


two_moves_or_less = df_sample.loc[df_sample['game_moves']<=2,'game_id']
print(f'Total games with <=2 moves: {len(two_moves_or_less)} Example game_ids: {two_moves_or_less[:5].values}')


df_sample = df_sample.loc[~df_sample['game_id'].isin(two_moves_or_less)]


%%time
def create_uuid_df(df, col='game_id',unicity = False):

    bits = ((1 << 64) - 1) if unicity else 0xffffffff
    
    aux_col = 'hash_move'
    move_hash = df['move_uci'].map(
        lambda m: int(hashlib.sha1(m.encode()).hexdigest(), 16) & bits
    )
    
    df[aux_col] = (move_hash + df['ply'].astype(np.uint32)) & bits
    
    df['game_uuid'] = df.groupby(col)[aux_col].transform(
        lambda x: np.bitwise_xor.reduce(x)
    )
    
    df.drop(aux_col, axis=1, inplace=True)
    del move_hash
    
    return df
df_sample = create_uuid_df(df_sample,'game_id',unicity=True)


duplicated_games = set(df_sample.loc[(df_sample['ply']==1) & df_sample['game_uuid'].duplicated(),'game_id'])
df_sample = df_sample.loc[~df_sample['game_id'].isin(duplicated_games)]


all_uci_moves_dataset = set(df_sample['move_uci'])


uci_to_idx, idx_to_uci = generate_full_uci_move_vocabulary()


all_uci_moves_dataset - set(uci_to_idx.keys()) ## all movements in the function


moves_per_game = df_sample.loc[df_sample['ply']==1,'game_moves']


import plotly.graph_objects as go


fig = go.Figure(data=[
    go.Histogram(
        x=moves_per_game.values,
        nbinsx=50  # puedes ajustar el número de bins (ej. 50, 100, etc.)
    )
])

fig.update_layout(
    title="Distribución de jugadas por partida",
    xaxis_title="Número de jugadas",
    yaxis_title="Número de partidas",
    bargap=0.05,
    template='plotly_dark',
    width= 900,
    height=400
)

fig.show()



fig.update_layout?



